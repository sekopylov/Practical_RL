{
 "cells": [
  {
   "cell_type": "markdown",
   "metadata": {},
   "source": [
    "## Reinforcement Learning for seq2seq\n",
    "\n",
    "This time we'll solve a problem of transсribing Hebrew words in English, also known as g2p (grapheme2phoneme)\n",
    "\n",
    " * word (sequence of letters in source language) -> translation (sequence of letters in target language)\n",
    "\n",
    "Unlike what most deep learning practitioners do, we won't only train it to maximize likelihood of correct translation, but also employ reinforcement learning to actually teach it to translate with as few errors as possible.\n",
    "\n",
    "\n",
    "### About the task\n",
    "\n",
    "One notable property of Hebrew is that it's a consonant language. That is, there are no vowels in the written language. One could represent vowels with diacritics above consonants, but you don't expect people to do that in everyday life.\n",
    "\n",
    "Therefore, some Hebrew characters will correspond to several English letters and others - to none, so we should use encoder-decoder architecture to figure that out.\n",
    "\n",
    "![img](https://esciencegroup.files.wordpress.com/2016/03/seq2seq.jpg)\n",
    "_(img: esciencegroup.files.wordpress.com)_\n",
    "\n",
    "Encoder-decoder architectures are about converting anything to anything, including\n",
    " * Machine translation and spoken dialogue systems\n",
    " * [Image captioning](https://cocodataset.org/#captions-2015) and [image2latex](https://htmlpreview.github.io/?https://github.com/openai/requests-for-research/blob/master/_requests_for_research/im2latex.html) (convolutional encoder, recurrent decoder)\n",
    " * Generating [images by captions](https://arxiv.org/abs/1511.02793) (recurrent encoder, convolutional decoder)\n",
    " * Grapheme2phoneme - convert words to transcripts\n",
    "\n",
    "We chose simplified __Hebrew->English__ machine translation for words and short phrases (character-level), as it is relatively quick to train even without a gpu cluster."
   ]
  },
  {
   "cell_type": "code",
   "execution_count": 18,
   "metadata": {
    "execution": {
     "iopub.execute_input": "2025-05-14T15:55:06.653282Z",
     "iopub.status.busy": "2025-05-14T15:55:06.652985Z",
     "iopub.status.idle": "2025-05-14T15:55:07.762757Z",
     "shell.execute_reply": "2025-05-14T15:55:07.761708Z",
     "shell.execute_reply.started": "2025-05-14T15:55:06.653260Z"
    },
    "trusted": true
   },
   "outputs": [],
   "source": [
    "import sys, os\n",
    "\n",
    "if 'google.colab' in sys.modules and not os.path.exists('.setup_complete'):\n",
    "    !wget https://raw.githubusercontent.com/sekopylov/Practical_RL/master/week07_seq2seq/voc.py -O voc.py\n",
    "    !wget https://raw.githubusercontent.com/sekopylov/Practical_RL/master/week07_seq2seq/improved_model.py -O improved_model.py\n",
    "    !wget https://raw.githubusercontent.com/sekopylov/Practical_RL/master/week07_seq2seq/main_dataset.txt -O main_dataset.txt"
   ]
  },
  {
   "cell_type": "code",
   "execution_count": 19,
   "metadata": {
    "execution": {
     "iopub.execute_input": "2025-05-14T15:55:07.765113Z",
     "iopub.status.busy": "2025-05-14T15:55:07.764783Z",
     "iopub.status.idle": "2025-05-14T15:55:07.769936Z",
     "shell.execute_reply": "2025-05-14T15:55:07.769159Z",
     "shell.execute_reply.started": "2025-05-14T15:55:07.765089Z"
    },
    "trusted": true
   },
   "outputs": [],
   "source": [
    "# If True, only translates phrases shorter than 20 characters (way easier).\n",
    "EASY_MODE = False\n",
    "# Useful for initial coding.\n",
    "# If false, works with all phrases (please switch to this mode for homework assignment)\n",
    "\n",
    "# way we translate. Either \"he-to-en\" or \"en-to-he\"\n",
    "MODE = \"he-to-en\"\n",
    "# maximal length of _generated_ output, does not affect training\n",
    "MAX_OUTPUT_LENGTH = 50 if not EASY_MODE else 20\n",
    "REPORT_FREQ = 100                          # how often to evaluate validation score"
   ]
  },
  {
   "cell_type": "markdown",
   "metadata": {},
   "source": [
    "### Step 1: preprocessing\n",
    "\n",
    "We shall store dataset as a dictionary\n",
    "`{ word1:[translation1,translation2,...], word2:[...],...}`.\n",
    "\n",
    "This is mostly due to the fact that many words have several correct translations.\n",
    "\n",
    "We have implemented this thing for you so that you can focus on more interesting parts."
   ]
  },
  {
   "cell_type": "code",
   "execution_count": 20,
   "metadata": {
    "execution": {
     "iopub.execute_input": "2025-05-14T15:55:07.771206Z",
     "iopub.status.busy": "2025-05-14T15:55:07.770949Z",
     "iopub.status.idle": "2025-05-14T15:55:08.513859Z",
     "shell.execute_reply": "2025-05-14T15:55:08.513031Z",
     "shell.execute_reply.started": "2025-05-14T15:55:07.771183Z"
    },
    "trusted": true
   },
   "outputs": [
    {
     "name": "stdout",
     "output_type": "stream",
     "text": [
      "size =  181802\n"
     ]
    }
   ],
   "source": [
    "import numpy as np\n",
    "from collections import defaultdict\n",
    "word_to_translation = defaultdict(list)  # our dictionary\n",
    "\n",
    "bos = '_'\n",
    "eos = ';'\n",
    "\n",
    "with open(\"main_dataset.txt\", encoding=\"utf-8\") as fin:\n",
    "    for line in fin:\n",
    "\n",
    "        en, he = line[:-1].lower().replace(bos, ' ').replace(eos,\n",
    "                                                             ' ').split('\\t')\n",
    "        word, trans = (he, en) if MODE == 'he-to-en' else (en, he)\n",
    "\n",
    "        if len(word) < 3:\n",
    "            continue\n",
    "        if EASY_MODE:\n",
    "            if max(len(word), len(trans)) > 20:\n",
    "                continue\n",
    "\n",
    "        word_to_translation[word].append(trans)\n",
    "\n",
    "print(\"size = \", len(word_to_translation))"
   ]
  },
  {
   "cell_type": "code",
   "execution_count": 21,
   "metadata": {
    "execution": {
     "iopub.execute_input": "2025-05-14T15:55:08.515093Z",
     "iopub.status.busy": "2025-05-14T15:55:08.514783Z",
     "iopub.status.idle": "2025-05-14T15:55:08.910974Z",
     "shell.execute_reply": "2025-05-14T15:55:08.910358Z",
     "shell.execute_reply.started": "2025-05-14T15:55:08.515066Z"
    },
    "trusted": true
   },
   "outputs": [],
   "source": [
    "# get all unique lines in source language\n",
    "all_words = np.array(list(word_to_translation.keys()))\n",
    "# get all unique lines in translation language\n",
    "all_translations = np.array(list(set(\n",
    "    [ts for all_ts in word_to_translation.values() for ts in all_ts])))"
   ]
  },
  {
   "cell_type": "code",
   "execution_count": 22,
   "metadata": {
    "execution": {
     "iopub.execute_input": "2025-05-14T15:55:08.913113Z",
     "iopub.status.busy": "2025-05-14T15:55:08.912863Z",
     "iopub.status.idle": "2025-05-14T15:55:09.199592Z",
     "shell.execute_reply": "2025-05-14T15:55:09.198643Z",
     "shell.execute_reply.started": "2025-05-14T15:55:08.913094Z"
    },
    "trusted": true
   },
   "outputs": [
    {
     "name": "stdout",
     "output_type": "stream",
     "text": [
      "משתמש:צלף/! סימן קריאה\n",
      "משתמש:צלף/! סימן קריאה\n",
      "משתמש:צלף/!\n",
      "סימן קריאה\n",
      "['משתמש:צלף/!' 'סימן קריאה' 'תבנית:!!' '$9.99']\n"
     ]
    }
   ],
   "source": [
    "print(all_words[0], all_words[1])\n",
    "print(list(all_words)[0], list(all_words)[1])\n",
    "print(all_words[0])\n",
    "print(all_words[1])\n",
    "print(all_words[:4])"
   ]
  },
  {
   "cell_type": "code",
   "execution_count": 23,
   "metadata": {
    "execution": {
     "iopub.execute_input": "2025-05-14T15:55:09.200896Z",
     "iopub.status.busy": "2025-05-14T15:55:09.200522Z",
     "iopub.status.idle": "2025-05-14T15:55:09.220201Z",
     "shell.execute_reply": "2025-05-14T15:55:09.219411Z",
     "shell.execute_reply.started": "2025-05-14T15:55:09.200867Z"
    },
    "trusted": true
   },
   "outputs": [
    {
     "name": "stdout",
     "output_type": "stream",
     "text": [
      "משתמש:צלף/!"
     ]
    }
   ],
   "source": [
    "for i in list(all_words[0]):\n",
    "    print(i, end=\"\")"
   ]
  },
  {
   "cell_type": "markdown",
   "metadata": {},
   "source": [
    "### split the dataset\n",
    "\n",
    "We hold out 10% of all words to be used for validation.\n"
   ]
  },
  {
   "cell_type": "code",
   "execution_count": 24,
   "metadata": {
    "execution": {
     "iopub.execute_input": "2025-05-14T15:55:09.221276Z",
     "iopub.status.busy": "2025-05-14T15:55:09.221051Z",
     "iopub.status.idle": "2025-05-14T15:55:09.967753Z",
     "shell.execute_reply": "2025-05-14T15:55:09.967123Z",
     "shell.execute_reply.started": "2025-05-14T15:55:09.221259Z"
    },
    "trusted": true
   },
   "outputs": [],
   "source": [
    "from sklearn.model_selection import train_test_split\n",
    "train_words, test_words = train_test_split(\n",
    "    all_words, test_size=0.1, random_state=42)"
   ]
  },
  {
   "cell_type": "markdown",
   "metadata": {},
   "source": [
    "### Building vocabularies\n",
    "\n",
    "We now need to build vocabularies that map strings to token ids and vice versa. We're gonna need these fellas when we feed training data into the model or convert output matrices into English words."
   ]
  },
  {
   "cell_type": "code",
   "execution_count": 25,
   "metadata": {
    "execution": {
     "iopub.execute_input": "2025-05-14T15:55:09.968903Z",
     "iopub.status.busy": "2025-05-14T15:55:09.968554Z",
     "iopub.status.idle": "2025-05-14T15:55:11.193933Z",
     "shell.execute_reply": "2025-05-14T15:55:11.193073Z",
     "shell.execute_reply.started": "2025-05-14T15:55:09.968886Z"
    },
    "trusted": true
   },
   "outputs": [],
   "source": [
    "from voc import Vocab\n",
    "inp_voc = Vocab.from_lines(''.join(all_words), bos=bos, eos=eos, sep='')\n",
    "out_voc = Vocab.from_lines(''.join(all_translations), bos=bos, eos=eos, sep='')"
   ]
  },
  {
   "cell_type": "code",
   "execution_count": 26,
   "metadata": {
    "execution": {
     "iopub.execute_input": "2025-05-14T15:55:11.195104Z",
     "iopub.status.busy": "2025-05-14T15:55:11.194863Z",
     "iopub.status.idle": "2025-05-14T15:55:11.199980Z",
     "shell.execute_reply": "2025-05-14T15:55:11.199137Z",
     "shell.execute_reply.started": "2025-05-14T15:55:11.195086Z"
    },
    "trusted": true
   },
   "outputs": [
    {
     "name": "stdout",
     "output_type": "stream",
     "text": [
      "\n"
     ]
    }
   ],
   "source": [
    "print()"
   ]
  },
  {
   "cell_type": "code",
   "execution_count": 27,
   "metadata": {
    "execution": {
     "iopub.execute_input": "2025-05-14T15:55:11.201178Z",
     "iopub.status.busy": "2025-05-14T15:55:11.200773Z",
     "iopub.status.idle": "2025-05-14T15:55:11.220288Z",
     "shell.execute_reply": "2025-05-14T15:55:11.219446Z",
     "shell.execute_reply.started": "2025-05-14T15:55:11.201158Z"
    },
    "trusted": true
   },
   "outputs": [
    {
     "name": "stdout",
     "output_type": "stream",
     "text": [
      "lines\n",
      "[\"תבנית:'\", '$9.99', 'תבנית:!!', 'סימן קריאה', 'משתמש:צלף/!']\n",
      "\n",
      "words to ids (0 = bos, 1 = eos):\n",
      "[[  0 134 145 146 134 145  28 142 132 139  17   4   1]\n",
      " [  0 137 129 134 135   3 143 144 129 120 124   1   2]\n",
      " [  0 146 121 136 129 146  28   4   4   1   2   2   2]\n",
      " [  0   7  27  16  27  27   1   2   2   2   2   2   2]\n",
      " [  0 146 121 136 129 146  28   9   1   2   2   2   2]]\n",
      "\n",
      "back to words\n",
      "['משתמש:צלף/!', 'סימן קריאה', 'תבנית:!!', '$9.99', \"תבנית:'\"]\n"
     ]
    }
   ],
   "source": [
    "# Here's how you cast lines into ids and backwards.\n",
    "batch_lines = all_words[:5]\n",
    "batch_ids = inp_voc.to_matrix(batch_lines)\n",
    "batch_lines_restored = inp_voc.to_lines(batch_ids)\n",
    "\n",
    "print(\"lines\")\n",
    "print(list(reversed(batch_lines)))  # print is broken\n",
    "print(\"\\nwords to ids (0 = bos, 1 = eos):\")\n",
    "print(batch_ids)\n",
    "print(\"\\nback to words\")\n",
    "print(batch_lines_restored)"
   ]
  },
  {
   "cell_type": "markdown",
   "metadata": {},
   "source": [
    "Draw word/translation length distributions to estimate the scope of the task."
   ]
  },
  {
   "cell_type": "code",
   "execution_count": 28,
   "metadata": {
    "execution": {
     "iopub.execute_input": "2025-05-14T15:55:11.221523Z",
     "iopub.status.busy": "2025-05-14T15:55:11.221175Z",
     "iopub.status.idle": "2025-05-14T15:55:12.731910Z",
     "shell.execute_reply": "2025-05-14T15:55:12.731048Z",
     "shell.execute_reply.started": "2025-05-14T15:55:11.221504Z"
    },
    "trusted": true
   },
   "outputs": [
    {
     "data": {
      "text/plain": [
       "(array([5.3848e+04, 8.2076e+04, 2.9641e+04, 1.0819e+04, 3.5700e+03,\n",
       "        1.0030e+03, 2.6700e+02, 1.1300e+02, 2.5000e+01, 6.0000e+00,\n",
       "        1.0000e+00, 3.0000e+00, 1.0000e+00, 0.0000e+00, 0.0000e+00,\n",
       "        0.0000e+00, 0.0000e+00, 0.0000e+00, 0.0000e+00, 1.0000e+00]),\n",
       " array([  1.  ,  10.05,  19.1 ,  28.15,  37.2 ,  46.25,  55.3 ,  64.35,\n",
       "         73.4 ,  82.45,  91.5 , 100.55, 109.6 , 118.65, 127.7 , 136.75,\n",
       "        145.8 , 154.85, 163.9 , 172.95, 182.  ]),\n",
       " <BarContainer object of 20 artists>)"
      ]
     },
     "execution_count": 28,
     "metadata": {},
     "output_type": "execute_result"
    },
    {
     "data": {
      "image/png": "[encoded data removed]",
      "text/plain": [
       "<Figure size 800x400 with 2 Axes>"
      ]
     },
     "metadata": {},
     "output_type": "display_data"
    }
   ],
   "source": [
    "import matplotlib.pyplot as plt\n",
    "%matplotlib inline\n",
    "plt.figure(figsize=[8, 4])\n",
    "plt.subplot(1, 2, 1)\n",
    "plt.title(\"words\")\n",
    "plt.hist(list(map(len, all_words)), bins=20)\n",
    "\n",
    "plt.subplot(1, 2, 2)\n",
    "plt.title('translations')\n",
    "plt.hist(list(map(len, all_translations)), bins=20)"
   ]
  },
  {
   "cell_type": "markdown",
   "metadata": {},
   "source": [
    "### Step 3: deploy encoder-decoder (1 point)\n",
    "\n",
    "__assignment starts here__\n",
    "\n",
    "Our architecture consists of two main blocks:\n",
    "* Encoder reads words character by character and outputs code vector (usually a function of last RNN state)\n",
    "* Decoder takes that code vector and produces translations character by character\n",
    "\n",
    "Then it gets fed into a model that follows this simple interface:\n",
    "* __`model(inp, out, **flags) -> logp`__ - takes symbolic int32 matrices of Hebrew words and their English translations. Computes the log-probabilities of all possible English characters given English prefixes and Hebrew word.\n",
    "* __`model.translate(inp, **flags) -> out, logp`__ - takes symbolic int32 matrix of Hebrew words, produces output tokens sampled from the model and output log-probabilities for all possible tokens at each tick.\n",
    "  * if given flag __`greedy=True`__, takes most likely next token at each iteration. Otherwise, samples with next token probabilities predicted by model.\n",
    "\n",
    "That's all! It's as hard as it gets. With those two methods alone, you can implement all kinds of prediction and training."
   ]
  },
  {
   "cell_type": "code",
   "execution_count": 29,
   "metadata": {
    "execution": {
     "iopub.execute_input": "2025-05-14T15:55:12.733081Z",
     "iopub.status.busy": "2025-05-14T15:55:12.732848Z",
     "iopub.status.idle": "2025-05-14T15:55:12.737787Z",
     "shell.execute_reply": "2025-05-14T15:55:12.736810Z",
     "shell.execute_reply.started": "2025-05-14T15:55:12.733064Z"
    },
    "trusted": true
   },
   "outputs": [],
   "source": [
    "import torch\n",
    "import torch.nn as nn\n",
    "import torch.nn.functional as F"
   ]
  },
  {
   "cell_type": "code",
   "execution_count": 30,
   "metadata": {
    "execution": {
     "iopub.execute_input": "2025-05-14T15:55:12.738767Z",
     "iopub.status.busy": "2025-05-14T15:55:12.738522Z",
     "iopub.status.idle": "2025-05-14T15:55:12.756166Z",
     "shell.execute_reply": "2025-05-14T15:55:12.755482Z",
     "shell.execute_reply.started": "2025-05-14T15:55:12.738742Z"
    },
    "trusted": true
   },
   "outputs": [
    {
     "data": {
      "text/plain": [
       "True"
      ]
     },
     "execution_count": 30,
     "metadata": {},
     "output_type": "execute_result"
    }
   ],
   "source": [
    "torch.cuda.is_available()"
   ]
  },
  {
   "cell_type": "code",
   "execution_count": 31,
   "metadata": {
    "execution": {
     "iopub.execute_input": "2025-05-14T15:55:12.759982Z",
     "iopub.status.busy": "2025-05-14T15:55:12.759469Z",
     "iopub.status.idle": "2025-05-14T15:55:12.771797Z",
     "shell.execute_reply": "2025-05-14T15:55:12.770987Z",
     "shell.execute_reply.started": "2025-05-14T15:55:12.759962Z"
    },
    "trusted": true
   },
   "outputs": [
    {
     "name": "stdout",
     "output_type": "stream",
     "text": [
      "cuda\n"
     ]
    }
   ],
   "source": [
    "device = torch.device(\"cuda\" if torch.cuda.is_available() else \"cpu\")\n",
    "print(device)"
   ]
  },
  {
   "cell_type": "code",
   "execution_count": 32,
   "metadata": {
    "execution": {
     "iopub.execute_input": "2025-05-14T16:10:51.769996Z",
     "iopub.status.busy": "2025-05-14T16:10:51.769699Z",
     "iopub.status.idle": "2025-05-14T16:10:51.775644Z",
     "shell.execute_reply": "2025-05-14T16:10:51.774572Z",
     "shell.execute_reply.started": "2025-05-14T16:10:51.769977Z"
    },
    "trusted": true
   },
   "outputs": [],
   "source": [
    "from improved_model import TranslationModel\n",
    "model = TranslationModel(inp_voc, out_voc,\n",
    "                              emb_size=64, hid_size=256).to(device)"
   ]
  },
  {
   "cell_type": "code",
   "execution_count": 33,
   "metadata": {
    "execution": {
     "iopub.execute_input": "2025-05-14T15:59:36.039682Z",
     "iopub.status.busy": "2025-05-14T15:59:36.038928Z",
     "iopub.status.idle": "2025-05-14T15:59:36.659080Z",
     "shell.execute_reply": "2025-05-14T15:59:36.658237Z",
     "shell.execute_reply.started": "2025-05-14T15:59:36.039644Z"
    },
    "trusted": true
   },
   "outputs": [
    {
     "name": "stdout",
     "output_type": "stream",
     "text": [
      "Sample translations:\n",
      " tensor([[  0,  67, 320,  ..., 295,  71,   1],\n",
      "        [  0, 111, 215,  ..., 215,  84, 154],\n",
      "        [  0,  61, 322,  ..., 192, 207, 132]], device='cuda:0')\n",
      "Log-probabilities at each step:\n",
      " tensor([[[  0.0000, -69.0776, -69.0776,  ..., -69.0776, -69.0776, -69.0776],\n",
      "         [ -5.8443,  -5.8423,  -5.7546,  ...,  -5.8030,  -5.8529,  -5.8296],\n",
      "         [ -5.8572,  -5.8603,  -5.7360,  ...,  -5.7853,  -5.8613,  -5.8195],\n",
      "         ...,\n",
      "         [ -5.8133,  -5.8481,  -5.7387,  ...,  -5.7416,  -5.8216,  -5.7430],\n",
      "         [ -5.8132,  -5.8427,  -5.7214,  ...,  -5.7558,  -5.8289,  -5.7819],\n",
      "         [ -5.8081,  -5.8181,  -5.7110,  ...,  -5.7771,  -5.8246,  -5.8140]],\n",
      "\n",
      "        [[  0.0000, -69.0776, -69.0776,  ..., -69.0776, -69.0776, -69.0776],\n",
      "         [ -5.8434,  -5.8576,  -5.7681,  ...,  -5.8065,  -5.8501,  -5.8127],\n",
      "         [ -5.8327,  -5.8441,  -5.7449,  ...,  -5.7791,  -5.8537,  -5.8170],\n",
      "         ...,\n",
      "         [ -5.8595,  -5.8273,  -5.7439,  ...,  -5.7534,  -5.8787,  -5.8137],\n",
      "         [ -5.8647,  -5.8324,  -5.7327,  ...,  -5.7478,  -5.8770,  -5.8111],\n",
      "         [ -5.8488,  -5.8232,  -5.7323,  ...,  -5.7440,  -5.8754,  -5.8013]],\n",
      "\n",
      "        [[  0.0000, -69.0776, -69.0776,  ..., -69.0776, -69.0776, -69.0776],\n",
      "         [ -5.8455,  -5.8478,  -5.7628,  ...,  -5.7949,  -5.8490,  -5.8108],\n",
      "         [ -5.8642,  -5.8485,  -5.7722,  ...,  -5.7759,  -5.8595,  -5.8145],\n",
      "         ...,\n",
      "         [ -5.8526,  -5.8589,  -5.7258,  ...,  -5.7952,  -5.8566,  -5.8161],\n",
      "         [ -5.8739,  -5.8581,  -5.7142,  ...,  -5.8046,  -5.8591,  -5.8363],\n",
      "         [ -5.8808,  -5.8762,  -5.7308,  ...,  -5.7750,  -5.8687,  -5.8282]]],\n",
      "       device='cuda:0', grad_fn=<LogSoftmaxBackward0>)\n",
      "torch.Size([3, 617, 326])\n"
     ]
    }
   ],
   "source": [
    "# Play around with symbolic_translate and symbolic_score\n",
    "inp = torch.tensor(np.random.randint(0, 10, [3, 5]), dtype=torch.int64).to(device)\n",
    "out = torch.tensor(np.random.randint(0, 10, [3, 5]), dtype=torch.int64).to(device)\n",
    "\n",
    "# translate inp (with untrained model)\n",
    "\n",
    "sampled_out, logp = model.translate(inp, greedy=False)\n",
    "\n",
    "print(\"Sample translations:\\n\", sampled_out)\n",
    "print(\"Log-probabilities at each step:\\n\", logp)\n",
    "print(logp.shape)"
   ]
  },
  {
   "cell_type": "code",
   "execution_count": 34,
   "metadata": {
    "execution": {
     "iopub.execute_input": "2025-05-14T15:56:27.393070Z",
     "iopub.status.busy": "2025-05-14T15:56:27.392185Z",
     "iopub.status.idle": "2025-05-14T15:56:27.397306Z",
     "shell.execute_reply": "2025-05-14T15:56:27.396430Z",
     "shell.execute_reply.started": "2025-05-14T15:56:27.393046Z"
    },
    "trusted": true
   },
   "outputs": [
    {
     "name": "stdout",
     "output_type": "stream",
     "text": [
      "['_', ';', '__PAD__', ' ', '!', '\"', '$', '%', '&', \"'\", '(', ')', '*', '+', ',', '-', '.', '/', '0', '1', '2', '3', '4', '5', '6', '7', '8', '9', ':', '=', '?', '@', '^', '`', 'a', 'b', 'c', 'd', 'e', 'f', 'g', 'h', 'i', 'j', 'k', 'l', 'm', 'n', 'o', 'p', 'q', 'r', 's', 't', 'u', 'v', 'w', 'x', 'y', 'z', '~', '¡', '°', '²', 'µ', '·', '½', '×', 'ß', 'à', 'á', 'â', 'ã', 'ä', 'å', 'æ', 'ç', 'è', 'é', 'ê', 'ë', 'ì', 'í', 'î', 'ï', 'ð', 'ñ', 'ò', 'ó', 'ô', 'õ', 'ö', 'ø', 'ù', 'ú', 'û', 'ü', 'ý', 'þ', 'ÿ', 'ā', 'ă', 'ą', 'ć', 'č', 'ď', 'đ', 'ē', 'ė', 'ę', 'ě', 'ğ', 'ģ', 'ħ', 'ī', 'ı', 'ķ', 'ļ', 'ľ', 'ł', 'ń', 'ņ', 'ň', 'ŋ', 'ō', 'ŏ', 'ő', 'œ', 'ř', 'ś', 'ş', 'š', 'ţ', 'ť', 'ū', 'ŭ', 'ů', 'ű', 'ų', 'ź', 'ż', 'ž', 'ơ', 'ư', 'ș', 'ț', 'ə', 'ɱ', 'ʻ', 'ʾ', 'ʿ', '̇', 'ή', 'δ', 'ε', 'ζ', 'η', 'μ', 'ν', 'ο', 'π', 'ρ', 'σ', 'τ', 'υ', 'а', 'б', 'в', 'г', 'д', 'е', 'и', 'к', 'л', 'м', 'н', 'о', 'п', 'р', 'т', 'у', 'ф', 'х', 'ц', 'ш', 'ъ', 'ы', 'ь', 'ю', 'я', 'ա', 'զ', 'կ', 'ղ', 'վ', 'ր', 'א', 'ב', 'ג', 'ד', 'ה', 'ו', 'ז', 'ח', 'ט', 'י', 'כ', 'ל', 'ם', 'מ', 'ן', 'נ', 'ס', 'ע', 'ף', 'פ', 'צ', 'ק', 'ר', 'ש', 'ת', 'ا', 'ت', 'ر', 'س', 'ص', 'ع', 'ف', 'ق', 'ل', 'م', 'و', 'ک', 'ی', 'ক', 'ড', 'দ', 'ন', 'প', 'য', 'স', '়', 'া', 'ি', 'ৱ', 'ං', 'අ', 'ක', 'ග', 'ත', 'න', 'ය', 'ළ', 'ා', 'ැ', 'ි', 'ෙ', 'ណ', 'ថ', 'ទ', 'ធ', 'រ', 'វ', 'ា', 'ិ', '័', '្', 'ḥ', 'ḳ', 'ṃ', 'ṇ', 'ṭ', 'ẓ', 'ạ', 'ả', 'ấ', 'ẻ', 'ế', 'ễ', 'ọ', 'ỏ', 'ồ', 'ộ', 'ớ', 'ứ', 'ỹ', '–', '—', '‘', '’', '•', '…', '′', '″', '⅓', '→', '≤', '⋯', '♭', 'あ', 'い', 'っ', 'と', 'ぺ', 'ぼ', 'ら', 'る', 'コ', 'タ', 'チ', 'マ', '一', '仙', '子', '守', '御', '星', '桜', '榎', '熊', '猫', '白', '老', '野', '門', '陳'] "
     ]
    }
   ],
   "source": [
    "print(out_voc.tokens, end=\" \")"
   ]
  },
  {
   "cell_type": "code",
   "execution_count": 35,
   "metadata": {
    "execution": {
     "iopub.execute_input": "2025-05-14T15:56:28.073067Z",
     "iopub.status.busy": "2025-05-14T15:56:28.072477Z",
     "iopub.status.idle": "2025-05-14T15:56:28.123385Z",
     "shell.execute_reply": "2025-05-14T15:56:28.122435Z",
     "shell.execute_reply.started": "2025-05-14T15:56:28.073038Z"
    },
    "trusted": true
   },
   "outputs": [
    {
     "name": "stdout",
     "output_type": "stream",
     "text": [
      "Symbolic_score output:\n",
      " tensor([[[  0.0000, -69.0776, -69.0776,  ..., -69.0776, -69.0776, -69.0776],\n",
      "         [ -5.8281,  -5.8289,  -5.7415,  ...,  -5.7999,  -5.8573,  -5.8190],\n",
      "         [ -5.8391,  -5.8439,  -5.7274,  ...,  -5.7957,  -5.8747,  -5.8230],\n",
      "         [ -5.8612,  -5.8632,  -5.7382,  ...,  -5.7919,  -5.8725,  -5.8311],\n",
      "         [ -5.8564,  -5.8769,  -5.7492,  ...,  -5.7793,  -5.8716,  -5.8377]],\n",
      "\n",
      "        [[  0.0000, -69.0776, -69.0776,  ..., -69.0776, -69.0776, -69.0776],\n",
      "         [ -5.8070,  -5.8404,  -5.7544,  ...,  -5.8103,  -5.8476,  -5.8204],\n",
      "         [ -5.8369,  -5.8585,  -5.7599,  ...,  -5.8013,  -5.8529,  -5.8252],\n",
      "         [ -5.8550,  -5.8656,  -5.7422,  ...,  -5.7862,  -5.8507,  -5.8125],\n",
      "         [ -5.8617,  -5.8515,  -5.7419,  ...,  -5.7845,  -5.8481,  -5.8021]],\n",
      "\n",
      "        [[  0.0000, -69.0776, -69.0776,  ..., -69.0776, -69.0776, -69.0776],\n",
      "         [ -5.8299,  -5.8252,  -5.7566,  ...,  -5.8013,  -5.8495,  -5.8006],\n",
      "         [ -5.8434,  -5.8235,  -5.7457,  ...,  -5.7902,  -5.8478,  -5.8061],\n",
      "         [ -5.8736,  -5.8345,  -5.7541,  ...,  -5.7944,  -5.8709,  -5.8065],\n",
      "         [ -5.8934,  -5.8502,  -5.7633,  ...,  -5.7859,  -5.8697,  -5.8141]]],\n",
      "       device='cuda:0', grad_fn=<LogSoftmaxBackward0>)\n",
      "Log-probabilities of output tokens:\n",
      " tensor([[[-69.0776],\n",
      "         [ -5.7642],\n",
      "         [ -5.8391],\n",
      "         [ -5.8651],\n",
      "         [ -5.8769]],\n",
      "\n",
      "        [[-69.0776],\n",
      "         [ -5.7502],\n",
      "         [ -5.7798],\n",
      "         [ -5.8212],\n",
      "         [ -5.8036]],\n",
      "\n",
      "        [[-69.0776],\n",
      "         [ -5.7566],\n",
      "         [ -5.8235],\n",
      "         [ -5.8736],\n",
      "         [ -5.7609]]], device='cuda:0', grad_fn=<GatherBackward0>)\n"
     ]
    }
   ],
   "source": [
    "# score logp(out | inp) with untrained input\n",
    "logp = model(inp, out)\n",
    "print(\"Symbolic_score output:\\n\", logp)\n",
    "\n",
    "print(\"Log-probabilities of output tokens:\\n\",\n",
    "      torch.gather(logp, dim=2, index=out[:, :, None]))"
   ]
  },
  {
   "cell_type": "code",
   "execution_count": 36,
   "metadata": {
    "execution": {
     "iopub.status.busy": "2025-05-14T15:55:13.305228Z",
     "iopub.status.idle": "2025-05-14T15:55:13.305515Z",
     "shell.execute_reply": "2025-05-14T15:55:13.305394Z",
     "shell.execute_reply.started": "2025-05-14T15:55:13.305377Z"
    },
    "trusted": true
   },
   "outputs": [],
   "source": [
    "def translate(lines, max_len=MAX_OUTPUT_LENGTH):\n",
    "    \"\"\"\n",
    "    You are given a list of input lines.\n",
    "    Make your neural network translate them.\n",
    "    :return: a list of output lines\n",
    "    \"\"\"\n",
    "    # Convert lines to a matrix of indices\n",
    "    lines_ix = inp_voc.to_matrix(lines)\n",
    "    lines_ix = torch.tensor(lines_ix, dtype=torch.int64)\n",
    "\n",
    "    # Compute translations in form of indices\n",
    "    # Translate gives as sentence (in matrix) and scores\n",
    "    trans_ix = model.translate(lines_ix, greedy=True, max_len=max_len)[0]\n",
    "\n",
    "    # Convert translations back into strings\n",
    "    return out_voc.to_lines(trans_ix.detach().cpu().numpy())"
   ]
  },
  {
   "cell_type": "code",
   "execution_count": 37,
   "metadata": {
    "execution": {
     "iopub.status.busy": "2025-05-14T15:55:13.306614Z",
     "iopub.status.idle": "2025-05-14T15:55:13.306868Z",
     "shell.execute_reply": "2025-05-14T15:55:13.306760Z",
     "shell.execute_reply.started": "2025-05-14T15:55:13.306746Z"
    },
    "trusted": true
   },
   "outputs": [
    {
     "name": "stdout",
     "output_type": "stream",
     "text": [
      "Sample inputs: ['משתמש:צלף/!' 'סימן קריאה' 'תבנית:!!']\n",
      "Dummy translations: ['いいいʾいʾいʾいʾいʾいʾいʾいʾいʾいʾいʾいʾいʾいʾいʾいʾいʾいʾいʾいʾいʾいʾいʾい', 'いいいʾいʾいʾいʾいʾいʾいʾいʾいʾいʾいʾいʾいʾいʾいʾいʾいʾいʾいʾいʾいʾいʾいʾい', 'いいいʾいʾいʾいʾいʾいʾいʾいʾいʾいʾいʾいʾいʾいʾいʾいʾいʾいʾいʾいʾいʾいʾいʾい']\n",
      "Tests passed!\n"
     ]
    }
   ],
   "source": [
    "print(\"Sample inputs:\", all_words[:3])\n",
    "print(\"Dummy translations:\", translate(all_words[:3]))\n",
    "trans = translate(all_words[:3])\n",
    "\n",
    "assert translate(all_words[:3]) == translate(\n",
    "    all_words[:3]), \"make sure translation is deterministic (use greedy=True and disable any noise layers)\"\n",
    "assert type(translate(all_words[:3])) is list and (type(translate(all_words[:1])[0]) is str or type(\n",
    "    translate(all_words[:1])[0]) is unicode), \"translate(lines) must return a sequence of strings!\"\n",
    "# note: if translation freezes, make sure you used max_len parameter\n",
    "print(\"Tests passed!\")"
   ]
  },
  {
   "cell_type": "markdown",
   "metadata": {},
   "source": [
    "### Scoring function\n",
    "\n",
    "LogLikelihood is a poor estimator of model performance.\n",
    "* If we predict zero probability once, it shouldn't ruin the entire model.\n",
    "* It is enough to learn just one translation if there are several correct ones.\n",
    "* What matters is how many mistakes model's gonna make when it translates!\n",
    "\n",
    "Therefore, we will use minimal Levenshtein distance. It measures how many characters do we need to add/remove/replace from model translation to make it perfect. Alternatively, one could use character-level BLEU/RougeL or other similar metrics.\n",
    "\n",
    "The catch here is that Levenshtein distance is not differentiable: it isn't even continuous. We can't train our neural network to maximize it by gradient descent."
   ]
  },
  {
   "cell_type": "code",
   "execution_count": 38,
   "metadata": {
    "execution": {
     "iopub.status.busy": "2025-05-14T15:55:13.307934Z",
     "iopub.status.idle": "2025-05-14T15:55:13.308210Z",
     "shell.execute_reply": "2025-05-14T15:55:13.308092Z",
     "shell.execute_reply.started": "2025-05-14T15:55:13.308079Z"
    },
    "trusted": true
   },
   "outputs": [],
   "source": [
    "import editdistance  # !pip install editdistance\n",
    "\n",
    "\n",
    "def get_distance(word, trans):\n",
    "    \"\"\"\n",
    "    A function that takes word and predicted translation\n",
    "    and evaluates (Levenshtein's) edit distance to closest correct translation\n",
    "    \"\"\"\n",
    "    references = word_to_translation[word]\n",
    "    assert len(references) != 0, \"wrong/unknown word\"\n",
    "    return min(editdistance.eval(trans, ref) for ref in references)\n",
    "\n",
    "\n",
    "def score(words, bsize=100):\n",
    "    \"\"\"a function that computes levenshtein distance for bsize random samples\"\"\"\n",
    "    assert isinstance(words, np.ndarray)\n",
    "\n",
    "    batch_words = np.random.choice(words, size=bsize, replace=False)\n",
    "    batch_trans = translate(batch_words)\n",
    "\n",
    "    distances = list(map(get_distance, batch_words, batch_trans))\n",
    "\n",
    "    return np.array(distances, dtype='float32')"
   ]
  },
  {
   "cell_type": "code",
   "execution_count": 39,
   "metadata": {
    "execution": {
     "iopub.status.busy": "2025-05-14T15:55:13.310004Z",
     "iopub.status.idle": "2025-05-14T15:55:13.310249Z",
     "shell.execute_reply": "2025-05-14T15:55:13.310149Z",
     "shell.execute_reply.started": "2025-05-14T15:55:13.310138Z"
    },
    "trusted": true
   },
   "outputs": [
    {
     "data": {
      "text/plain": [
       "[49.0, 48.9, 49.0, 49.6, 49.0]"
      ]
     },
     "execution_count": 39,
     "metadata": {},
     "output_type": "execute_result"
    }
   ],
   "source": [
    "# should be around 5-50 and decrease rapidly after training :)\n",
    "[score(test_words, 10).mean() for _ in range(5)]"
   ]
  },
  {
   "cell_type": "markdown",
   "metadata": {},
   "source": [
    "## Step 2: Supervised pre-training (2 points)\n",
    "\n",
    "Here we define a function that trains our model through maximizing log-likelihood a.k.a. minimizing crossentropy."
   ]
  },
  {
   "cell_type": "markdown",
   "metadata": {},
   "source": [
    "My model will have this architecture:\n",
    "\n",
    "```\n",
    "encoder---decoder\n",
    "\n",
    "           P(y|h)\n",
    "             ^\n",
    " GRU   ->   GRU\n",
    "  ^          ^\n",
    "biGRU  ->   GRU\n",
    "  ^          ^\n",
    "input       y_prev\n",
    "```\n"
   ]
  },
  {
   "cell_type": "code",
   "execution_count": 40,
   "metadata": {
    "execution": {
     "iopub.status.busy": "2025-05-14T15:55:13.311436Z",
     "iopub.status.idle": "2025-05-14T15:55:13.311688Z",
     "shell.execute_reply": "2025-05-14T15:55:13.311594Z",
     "shell.execute_reply.started": "2025-05-14T15:55:13.311584Z"
    },
    "trusted": true
   },
   "outputs": [],
   "source": [
    "import random\n",
    "\n",
    "\n",
    "def sample_batch(words, word_to_translation, batch_size):\n",
    "    \"\"\"\n",
    "    sample random batch of words and random correct translation for each word\n",
    "    example usage:\n",
    "    batch_x,batch_y = sample_batch(train_words, word_to_translations,10)\n",
    "    \"\"\"\n",
    "    # choose words\n",
    "    batch_words = np.random.choice(words, size=batch_size)\n",
    "\n",
    "    # choose translations\n",
    "    batch_trans_candidates = list(map(word_to_translation.get, batch_words))\n",
    "    batch_trans = list(map(random.choice, batch_trans_candidates))\n",
    "    return batch_words, batch_trans"
   ]
  },
  {
   "cell_type": "code",
   "execution_count": 41,
   "metadata": {
    "execution": {
     "iopub.status.busy": "2025-05-14T15:55:13.312972Z",
     "iopub.status.idle": "2025-05-14T15:55:13.313303Z",
     "shell.execute_reply": "2025-05-14T15:55:13.313152Z",
     "shell.execute_reply.started": "2025-05-14T15:55:13.313138Z"
    },
    "trusted": true
   },
   "outputs": [
    {
     "name": "stdout",
     "output_type": "stream",
     "text": [
      "Source:\n",
      "['אשנב תותח' 'רובוט אוטונומי' 'קלנסי']\n",
      "Target:\n",
      "['gun port', 'autonomous robot', 'clancy']\n"
     ]
    }
   ],
   "source": [
    "bx, by = sample_batch(train_words, word_to_translation, batch_size=3)\n",
    "print(\"Source:\")\n",
    "print(bx)\n",
    "print(\"Target:\")\n",
    "print(by)"
   ]
  },
  {
   "cell_type": "code",
   "execution_count": 42,
   "metadata": {
    "execution": {
     "iopub.status.busy": "2025-05-14T15:55:13.314603Z",
     "iopub.status.idle": "2025-05-14T15:55:13.314867Z",
     "shell.execute_reply": "2025-05-14T15:55:13.314750Z",
     "shell.execute_reply.started": "2025-05-14T15:55:13.314737Z"
    },
    "trusted": true
   },
   "outputs": [],
   "source": [
    "from improved_model import infer_length, infer_mask, to_one_hot\n",
    "\n",
    "\n",
    "def compute_loss_on_batch(input_sequence, reference_answers):\n",
    "    \"\"\" Compute crossentropy loss given a batch of sources and translations \"\"\"\n",
    "    input_sequence = torch.tensor(inp_voc.to_matrix(input_sequence), dtype=torch.int64).to(device)\n",
    "    reference_answers = torch.tensor(out_voc.to_matrix(reference_answers), dtype=torch.int64).to(device)\n",
    "\n",
    "    # Compute log-probabilities of all possible tokens at each step. Use model interface.\n",
    "    logprobs_seq = model(input_sequence, reference_answers)\n",
    "\n",
    "    # compute elementwise crossentropy as negative log-probabilities of reference_answers.\n",
    "    crossentropy = - \\\n",
    "        torch.sum(logprobs_seq *\n",
    "                  to_one_hot(reference_answers, len(out_voc)), dim=-1)\n",
    "    assert crossentropy.dim(\n",
    "    ) == 2, \"please return elementwise crossentropy, don't compute mean just yet\"\n",
    "\n",
    "    # average with mask\n",
    "    mask = infer_mask(reference_answers, out_voc.eos_ix)\n",
    "    loss = torch.sum(crossentropy * mask) / torch.sum(mask)\n",
    "\n",
    "    return loss"
   ]
  },
  {
   "cell_type": "code",
   "execution_count": 43,
   "metadata": {
    "execution": {
     "iopub.status.busy": "2025-05-14T15:55:13.316156Z",
     "iopub.status.idle": "2025-05-14T15:55:13.316499Z",
     "shell.execute_reply": "2025-05-14T15:55:13.316345Z",
     "shell.execute_reply.started": "2025-05-14T15:55:13.316333Z"
    },
    "trusted": true
   },
   "outputs": [
    {
     "name": "stdout",
     "output_type": "stream",
     "text": [
      "loss =  tensor(5.4783, device='cuda:0', grad_fn=<DivBackward0>)\n"
     ]
    }
   ],
   "source": [
    "# test it\n",
    "loss = compute_loss_on_batch(*sample_batch(train_words, word_to_translation, 3))\n",
    "print('loss = ', loss)\n",
    "\n",
    "assert loss.item() > 0.0\n",
    "loss.backward()\n",
    "for w in model.parameters():\n",
    "    assert w.grad is not None and torch.max(torch.abs(w.grad)).item() != 0, \\\n",
    "        \"Loss is not differentiable w.r.t. a weight with shape %s. Check comput_loss_on_batch.\" % (\n",
    "            w.size(),)"
   ]
  },
  {
   "cell_type": "markdown",
   "metadata": {},
   "source": [
    "##### Actually train the model\n",
    "\n",
    "Minibatches and stuff..."
   ]
  },
  {
   "cell_type": "code",
   "execution_count": 44,
   "metadata": {
    "execution": {
     "iopub.status.busy": "2025-05-14T15:55:13.317728Z",
     "iopub.status.idle": "2025-05-14T15:55:13.318076Z",
     "shell.execute_reply": "2025-05-14T15:55:13.317943Z",
     "shell.execute_reply.started": "2025-05-14T15:55:13.317919Z"
    },
    "trusted": true
   },
   "outputs": [
    {
     "name": "stdout",
     "output_type": "stream",
     "text": [
      "tensor([[  1.,   2., 123.],\n",
      "        [  2.,   3.,  98.]])\n"
     ]
    }
   ],
   "source": [
    "a = torch.Tensor([[1, 2], [2, 3]])\n",
    "b = torch.Tensor([[123], [98]])\n",
    "print(torch.cat((a, b), dim=-1))"
   ]
  },
  {
   "cell_type": "code",
   "execution_count": 45,
   "metadata": {
    "execution": {
     "iopub.status.busy": "2025-05-14T15:55:13.319211Z",
     "iopub.status.idle": "2025-05-14T15:55:13.319579Z",
     "shell.execute_reply": "2025-05-14T15:55:13.319418Z",
     "shell.execute_reply.started": "2025-05-14T15:55:13.319402Z"
    },
    "trusted": true
   },
   "outputs": [],
   "source": [
    "from IPython.display import clear_output\n",
    "from tqdm import tqdm, trange  # or use tqdm_notebook,tnrange\n",
    "\n",
    "loss_history = []\n",
    "editdist_history = []\n",
    "entropy_history = []\n",
    "opt = torch.optim.Adam(model.parameters())"
   ]
  },
  {
   "cell_type": "code",
   "execution_count": 46,
   "metadata": {
    "execution": {
     "iopub.status.busy": "2025-05-14T15:55:13.321163Z",
     "iopub.status.idle": "2025-05-14T15:55:13.321412Z",
     "shell.execute_reply": "2025-05-14T15:55:13.321287Z",
     "shell.execute_reply.started": "2025-05-14T15:55:13.321278Z"
    },
    "trusted": true
   },
   "outputs": [
    {
     "name": "stderr",
     "output_type": "stream",
     "text": [
      "  0%|          | 35/15000 [00:01<08:26, 29.52it/s]\n"
     ]
    },
    {
     "ename": "KeyboardInterrupt",
     "evalue": "",
     "output_type": "error",
     "traceback": [
      "\u001b[31m---------------------------------------------------------------------------\u001b[39m",
      "\u001b[31mKeyboardInterrupt\u001b[39m                         Traceback (most recent call last)",
      "\u001b[36mCell\u001b[39m\u001b[36m \u001b[39m\u001b[32mIn[46]\u001b[39m\u001b[32m, line 5\u001b[39m\n\u001b[32m      2\u001b[39m load_frequency = \u001b[32m1000\u001b[39m\n\u001b[32m      4\u001b[39m \u001b[38;5;28;01mfor\u001b[39;00m i \u001b[38;5;129;01min\u001b[39;00m trange(steps):\n\u001b[32m----> \u001b[39m\u001b[32m5\u001b[39m     loss = \u001b[43mcompute_loss_on_batch\u001b[49m\u001b[43m(\u001b[49m\u001b[43m*\u001b[49m\u001b[43msample_batch\u001b[49m\u001b[43m(\u001b[49m\u001b[43mtrain_words\u001b[49m\u001b[43m,\u001b[49m\u001b[43m \u001b[49m\u001b[43mword_to_translation\u001b[49m\u001b[43m,\u001b[49m\u001b[43m \u001b[49m\u001b[32;43m32\u001b[39;49m\u001b[43m)\u001b[49m\u001b[43m)\u001b[49m\n\u001b[32m      7\u001b[39m     \u001b[38;5;66;03m# train with backprop\u001b[39;00m\n\u001b[32m      8\u001b[39m     loss.backward()\n",
      "\u001b[36mCell\u001b[39m\u001b[36m \u001b[39m\u001b[32mIn[42]\u001b[39m\u001b[32m, line 10\u001b[39m, in \u001b[36mcompute_loss_on_batch\u001b[39m\u001b[34m(input_sequence, reference_answers)\u001b[39m\n\u001b[32m      7\u001b[39m reference_answers = torch.tensor(out_voc.to_matrix(reference_answers), dtype=torch.int64).to(device)\n\u001b[32m      9\u001b[39m \u001b[38;5;66;03m# Compute log-probabilities of all possible tokens at each step. Use model interface.\u001b[39;00m\n\u001b[32m---> \u001b[39m\u001b[32m10\u001b[39m logprobs_seq = \u001b[43mmodel\u001b[49m\u001b[43m(\u001b[49m\u001b[43minput_sequence\u001b[49m\u001b[43m,\u001b[49m\u001b[43m \u001b[49m\u001b[43mreference_answers\u001b[49m\u001b[43m)\u001b[49m\n\u001b[32m     12\u001b[39m \u001b[38;5;66;03m# compute elementwise crossentropy as negative log-probabilities of reference_answers.\u001b[39;00m\n\u001b[32m     13\u001b[39m crossentropy = - \\\n\u001b[32m     14\u001b[39m     torch.sum(logprobs_seq *\n\u001b[32m     15\u001b[39m               to_one_hot(reference_answers, \u001b[38;5;28mlen\u001b[39m(out_voc)), dim=-\u001b[32m1\u001b[39m)\n",
      "\u001b[36mFile \u001b[39m\u001b[32m~/study/rl/.conda/lib/python3.11/site-packages/torch/nn/modules/module.py:1751\u001b[39m, in \u001b[36mModule._wrapped_call_impl\u001b[39m\u001b[34m(self, *args, **kwargs)\u001b[39m\n\u001b[32m   1749\u001b[39m     \u001b[38;5;28;01mreturn\u001b[39;00m \u001b[38;5;28mself\u001b[39m._compiled_call_impl(*args, **kwargs)  \u001b[38;5;66;03m# type: ignore[misc]\u001b[39;00m\n\u001b[32m   1750\u001b[39m \u001b[38;5;28;01melse\u001b[39;00m:\n\u001b[32m-> \u001b[39m\u001b[32m1751\u001b[39m     \u001b[38;5;28;01mreturn\u001b[39;00m \u001b[38;5;28;43mself\u001b[39;49m\u001b[43m.\u001b[49m\u001b[43m_call_impl\u001b[49m\u001b[43m(\u001b[49m\u001b[43m*\u001b[49m\u001b[43margs\u001b[49m\u001b[43m,\u001b[49m\u001b[43m \u001b[49m\u001b[43m*\u001b[49m\u001b[43m*\u001b[49m\u001b[43mkwargs\u001b[49m\u001b[43m)\u001b[49m\n",
      "\u001b[36mFile \u001b[39m\u001b[32m~/study/rl/.conda/lib/python3.11/site-packages/torch/nn/modules/module.py:1762\u001b[39m, in \u001b[36mModule._call_impl\u001b[39m\u001b[34m(self, *args, **kwargs)\u001b[39m\n\u001b[32m   1757\u001b[39m \u001b[38;5;66;03m# If we don't have any hooks, we want to skip the rest of the logic in\u001b[39;00m\n\u001b[32m   1758\u001b[39m \u001b[38;5;66;03m# this function, and just call forward.\u001b[39;00m\n\u001b[32m   1759\u001b[39m \u001b[38;5;28;01mif\u001b[39;00m \u001b[38;5;129;01mnot\u001b[39;00m (\u001b[38;5;28mself\u001b[39m._backward_hooks \u001b[38;5;129;01mor\u001b[39;00m \u001b[38;5;28mself\u001b[39m._backward_pre_hooks \u001b[38;5;129;01mor\u001b[39;00m \u001b[38;5;28mself\u001b[39m._forward_hooks \u001b[38;5;129;01mor\u001b[39;00m \u001b[38;5;28mself\u001b[39m._forward_pre_hooks\n\u001b[32m   1760\u001b[39m         \u001b[38;5;129;01mor\u001b[39;00m _global_backward_pre_hooks \u001b[38;5;129;01mor\u001b[39;00m _global_backward_hooks\n\u001b[32m   1761\u001b[39m         \u001b[38;5;129;01mor\u001b[39;00m _global_forward_hooks \u001b[38;5;129;01mor\u001b[39;00m _global_forward_pre_hooks):\n\u001b[32m-> \u001b[39m\u001b[32m1762\u001b[39m     \u001b[38;5;28;01mreturn\u001b[39;00m \u001b[43mforward_call\u001b[49m\u001b[43m(\u001b[49m\u001b[43m*\u001b[49m\u001b[43margs\u001b[49m\u001b[43m,\u001b[49m\u001b[43m \u001b[49m\u001b[43m*\u001b[49m\u001b[43m*\u001b[49m\u001b[43mkwargs\u001b[49m\u001b[43m)\u001b[49m\n\u001b[32m   1764\u001b[39m result = \u001b[38;5;28;01mNone\u001b[39;00m\n\u001b[32m   1765\u001b[39m called_always_called_hooks = \u001b[38;5;28mset\u001b[39m()\n",
      "\u001b[36mFile \u001b[39m\u001b[32m~/study/rl/Practical_RL/week07_seq2seq/improved_model.py:127\u001b[39m, in \u001b[36mTranslationModel.forward\u001b[39m\u001b[34m(self, inp, out, eps, **flags)\u001b[39m\n\u001b[32m    125\u001b[39m hid_state = \u001b[38;5;28mself\u001b[39m.encode(inp, **flags)\n\u001b[32m    126\u001b[39m \u001b[38;5;28;01mfor\u001b[39;00m x_t \u001b[38;5;129;01min\u001b[39;00m out.transpose(\u001b[32m0\u001b[39m, \u001b[32m1\u001b[39m)[:-\u001b[32m1\u001b[39m]:\n\u001b[32m--> \u001b[39m\u001b[32m127\u001b[39m     hid_state, logits = \u001b[38;5;28;43mself\u001b[39;49m\u001b[43m.\u001b[49m\u001b[43mdecode\u001b[49m\u001b[43m(\u001b[49m\u001b[43mhid_state\u001b[49m\u001b[43m,\u001b[49m\u001b[43m \u001b[49m\u001b[43mx_t\u001b[49m\u001b[43m,\u001b[49m\u001b[43m \u001b[49m\u001b[43m*\u001b[49m\u001b[43m*\u001b[49m\u001b[43mflags\u001b[49m\u001b[43m)\u001b[49m\n\u001b[32m    128\u001b[39m     logits_seq.append(logits)\n\u001b[32m    130\u001b[39m \u001b[38;5;66;03m# torch.stack(logits_seq, dim=1) <-- [B, T_out, V]\u001b[39;00m\n\u001b[32m    131\u001b[39m \u001b[38;5;66;03m# V = n tokens\u001b[39;00m\n",
      "\u001b[36mFile \u001b[39m\u001b[32m~/study/rl/Practical_RL/week07_seq2seq/improved_model.py:99\u001b[39m, in \u001b[36mTranslationModel.decode\u001b[39m\u001b[34m(self, prev_state, prev_tokens, **flags)\u001b[39m\n\u001b[32m     92\u001b[39m \u001b[38;5;28;01mdef\u001b[39;00m\u001b[38;5;250m \u001b[39m\u001b[34mdecode\u001b[39m(\u001b[38;5;28mself\u001b[39m, prev_state, prev_tokens, **flags):\n\u001b[32m     93\u001b[39m \u001b[38;5;250m    \u001b[39m\u001b[33;03m\"\"\"\u001b[39;00m\n\u001b[32m     94\u001b[39m \u001b[33;03m    Takes previous decoder state and tokens, returns new state and logits\u001b[39;00m\n\u001b[32m     95\u001b[39m \u001b[33;03m    :param prev_state: a list of previous decoder state tensors\u001b[39;00m\n\u001b[32m     96\u001b[39m \u001b[33;03m    :param prev_tokens: previous output tokens, an int vector of [batch_size]\u001b[39;00m\n\u001b[32m     97\u001b[39m \u001b[33;03m    :return: a list of next decoder state tensors, a tensor of logits [batch,n_tokens]\u001b[39;00m\n\u001b[32m     98\u001b[39m \u001b[33;03m    \"\"\"\u001b[39;00m\n\u001b[32m---> \u001b[39m\u001b[32m99\u001b[39m     \u001b[38;5;28;01mreturn\u001b[39;00m \u001b[38;5;28;43mself\u001b[39;49m\u001b[43m.\u001b[49m\u001b[43mdecoder\u001b[49m\u001b[43m(\u001b[49m\u001b[43mprev_state\u001b[49m\u001b[43m,\u001b[49m\u001b[43m \u001b[49m\u001b[43mprev_tokens\u001b[49m\u001b[43m)\u001b[49m\n",
      "\u001b[36mFile \u001b[39m\u001b[32m~/study/rl/.conda/lib/python3.11/site-packages/torch/nn/modules/module.py:1751\u001b[39m, in \u001b[36mModule._wrapped_call_impl\u001b[39m\u001b[34m(self, *args, **kwargs)\u001b[39m\n\u001b[32m   1749\u001b[39m     \u001b[38;5;28;01mreturn\u001b[39;00m \u001b[38;5;28mself\u001b[39m._compiled_call_impl(*args, **kwargs)  \u001b[38;5;66;03m# type: ignore[misc]\u001b[39;00m\n\u001b[32m   1750\u001b[39m \u001b[38;5;28;01melse\u001b[39;00m:\n\u001b[32m-> \u001b[39m\u001b[32m1751\u001b[39m     \u001b[38;5;28;01mreturn\u001b[39;00m \u001b[38;5;28;43mself\u001b[39;49m\u001b[43m.\u001b[49m\u001b[43m_call_impl\u001b[49m\u001b[43m(\u001b[49m\u001b[43m*\u001b[49m\u001b[43margs\u001b[49m\u001b[43m,\u001b[49m\u001b[43m \u001b[49m\u001b[43m*\u001b[49m\u001b[43m*\u001b[49m\u001b[43mkwargs\u001b[49m\u001b[43m)\u001b[49m\n",
      "\u001b[36mFile \u001b[39m\u001b[32m~/study/rl/.conda/lib/python3.11/site-packages/torch/nn/modules/module.py:1762\u001b[39m, in \u001b[36mModule._call_impl\u001b[39m\u001b[34m(self, *args, **kwargs)\u001b[39m\n\u001b[32m   1757\u001b[39m \u001b[38;5;66;03m# If we don't have any hooks, we want to skip the rest of the logic in\u001b[39;00m\n\u001b[32m   1758\u001b[39m \u001b[38;5;66;03m# this function, and just call forward.\u001b[39;00m\n\u001b[32m   1759\u001b[39m \u001b[38;5;28;01mif\u001b[39;00m \u001b[38;5;129;01mnot\u001b[39;00m (\u001b[38;5;28mself\u001b[39m._backward_hooks \u001b[38;5;129;01mor\u001b[39;00m \u001b[38;5;28mself\u001b[39m._backward_pre_hooks \u001b[38;5;129;01mor\u001b[39;00m \u001b[38;5;28mself\u001b[39m._forward_hooks \u001b[38;5;129;01mor\u001b[39;00m \u001b[38;5;28mself\u001b[39m._forward_pre_hooks\n\u001b[32m   1760\u001b[39m         \u001b[38;5;129;01mor\u001b[39;00m _global_backward_pre_hooks \u001b[38;5;129;01mor\u001b[39;00m _global_backward_hooks\n\u001b[32m   1761\u001b[39m         \u001b[38;5;129;01mor\u001b[39;00m _global_forward_hooks \u001b[38;5;129;01mor\u001b[39;00m _global_forward_pre_hooks):\n\u001b[32m-> \u001b[39m\u001b[32m1762\u001b[39m     \u001b[38;5;28;01mreturn\u001b[39;00m \u001b[43mforward_call\u001b[49m\u001b[43m(\u001b[49m\u001b[43m*\u001b[49m\u001b[43margs\u001b[49m\u001b[43m,\u001b[49m\u001b[43m \u001b[49m\u001b[43m*\u001b[49m\u001b[43m*\u001b[49m\u001b[43mkwargs\u001b[49m\u001b[43m)\u001b[49m\n\u001b[32m   1764\u001b[39m result = \u001b[38;5;28;01mNone\u001b[39;00m\n\u001b[32m   1765\u001b[39m called_always_called_hooks = \u001b[38;5;28mset\u001b[39m()\n",
      "\u001b[36mFile \u001b[39m\u001b[32m~/study/rl/Practical_RL/week07_seq2seq/improved_model.py:65\u001b[39m, in \u001b[36mDecoderCell.forward\u001b[39m\u001b[34m(self, prev_state, prev_tokens)\u001b[39m\n\u001b[32m     62\u001b[39m [prev_dec1, prev_dec2] = prev_state\n\u001b[32m     63\u001b[39m prev_tokens_emb = \u001b[38;5;28mself\u001b[39m.emb_out(prev_tokens)\n\u001b[32m---> \u001b[39m\u001b[32m65\u001b[39m new_dec_state1 = \u001b[38;5;28;43mself\u001b[39;49m\u001b[43m.\u001b[49m\u001b[43mgru1\u001b[49m\u001b[43m(\u001b[49m\u001b[43mprev_tokens_emb\u001b[49m\u001b[43m,\u001b[49m\u001b[43m \u001b[49m\u001b[43mprev_dec1\u001b[49m\u001b[43m)\u001b[49m\n\u001b[32m     66\u001b[39m dec_out1 = \u001b[38;5;28mself\u001b[39m.dec_out_l1(new_dec_state1)\n\u001b[32m     68\u001b[39m new_dec_state2 = \u001b[38;5;28mself\u001b[39m.gru2(dec_out1, prev_dec2)\n",
      "\u001b[36mFile \u001b[39m\u001b[32m~/study/rl/.conda/lib/python3.11/site-packages/torch/nn/modules/module.py:1751\u001b[39m, in \u001b[36mModule._wrapped_call_impl\u001b[39m\u001b[34m(self, *args, **kwargs)\u001b[39m\n\u001b[32m   1749\u001b[39m     \u001b[38;5;28;01mreturn\u001b[39;00m \u001b[38;5;28mself\u001b[39m._compiled_call_impl(*args, **kwargs)  \u001b[38;5;66;03m# type: ignore[misc]\u001b[39;00m\n\u001b[32m   1750\u001b[39m \u001b[38;5;28;01melse\u001b[39;00m:\n\u001b[32m-> \u001b[39m\u001b[32m1751\u001b[39m     \u001b[38;5;28;01mreturn\u001b[39;00m \u001b[38;5;28;43mself\u001b[39;49m\u001b[43m.\u001b[49m\u001b[43m_call_impl\u001b[49m\u001b[43m(\u001b[49m\u001b[43m*\u001b[49m\u001b[43margs\u001b[49m\u001b[43m,\u001b[49m\u001b[43m \u001b[49m\u001b[43m*\u001b[49m\u001b[43m*\u001b[49m\u001b[43mkwargs\u001b[49m\u001b[43m)\u001b[49m\n",
      "\u001b[36mFile \u001b[39m\u001b[32m~/study/rl/.conda/lib/python3.11/site-packages/torch/nn/modules/module.py:1762\u001b[39m, in \u001b[36mModule._call_impl\u001b[39m\u001b[34m(self, *args, **kwargs)\u001b[39m\n\u001b[32m   1757\u001b[39m \u001b[38;5;66;03m# If we don't have any hooks, we want to skip the rest of the logic in\u001b[39;00m\n\u001b[32m   1758\u001b[39m \u001b[38;5;66;03m# this function, and just call forward.\u001b[39;00m\n\u001b[32m   1759\u001b[39m \u001b[38;5;28;01mif\u001b[39;00m \u001b[38;5;129;01mnot\u001b[39;00m (\u001b[38;5;28mself\u001b[39m._backward_hooks \u001b[38;5;129;01mor\u001b[39;00m \u001b[38;5;28mself\u001b[39m._backward_pre_hooks \u001b[38;5;129;01mor\u001b[39;00m \u001b[38;5;28mself\u001b[39m._forward_hooks \u001b[38;5;129;01mor\u001b[39;00m \u001b[38;5;28mself\u001b[39m._forward_pre_hooks\n\u001b[32m   1760\u001b[39m         \u001b[38;5;129;01mor\u001b[39;00m _global_backward_pre_hooks \u001b[38;5;129;01mor\u001b[39;00m _global_backward_hooks\n\u001b[32m   1761\u001b[39m         \u001b[38;5;129;01mor\u001b[39;00m _global_forward_hooks \u001b[38;5;129;01mor\u001b[39;00m _global_forward_pre_hooks):\n\u001b[32m-> \u001b[39m\u001b[32m1762\u001b[39m     \u001b[38;5;28;01mreturn\u001b[39;00m \u001b[43mforward_call\u001b[49m\u001b[43m(\u001b[49m\u001b[43m*\u001b[49m\u001b[43margs\u001b[49m\u001b[43m,\u001b[49m\u001b[43m \u001b[49m\u001b[43m*\u001b[49m\u001b[43m*\u001b[49m\u001b[43mkwargs\u001b[49m\u001b[43m)\u001b[49m\n\u001b[32m   1764\u001b[39m result = \u001b[38;5;28;01mNone\u001b[39;00m\n\u001b[32m   1765\u001b[39m called_always_called_hooks = \u001b[38;5;28mset\u001b[39m()\n",
      "\u001b[36mFile \u001b[39m\u001b[32m~/study/rl/.conda/lib/python3.11/site-packages/torch/nn/modules/rnn.py:1813\u001b[39m, in \u001b[36mGRUCell.forward\u001b[39m\u001b[34m(self, input, hx)\u001b[39m\n\u001b[32m   1810\u001b[39m \u001b[38;5;28;01melse\u001b[39;00m:\n\u001b[32m   1811\u001b[39m     hx = hx.unsqueeze(\u001b[32m0\u001b[39m) \u001b[38;5;28;01mif\u001b[39;00m \u001b[38;5;129;01mnot\u001b[39;00m is_batched \u001b[38;5;28;01melse\u001b[39;00m hx\n\u001b[32m-> \u001b[39m\u001b[32m1813\u001b[39m ret = \u001b[43m_VF\u001b[49m\u001b[43m.\u001b[49m\u001b[43mgru_cell\u001b[49m\u001b[43m(\u001b[49m\n\u001b[32m   1814\u001b[39m \u001b[43m    \u001b[49m\u001b[38;5;28;43minput\u001b[39;49m\u001b[43m,\u001b[49m\n\u001b[32m   1815\u001b[39m \u001b[43m    \u001b[49m\u001b[43mhx\u001b[49m\u001b[43m,\u001b[49m\n\u001b[32m   1816\u001b[39m \u001b[43m    \u001b[49m\u001b[38;5;28;43mself\u001b[39;49m\u001b[43m.\u001b[49m\u001b[43mweight_ih\u001b[49m\u001b[43m,\u001b[49m\n\u001b[32m   1817\u001b[39m \u001b[43m    \u001b[49m\u001b[38;5;28;43mself\u001b[39;49m\u001b[43m.\u001b[49m\u001b[43mweight_hh\u001b[49m\u001b[43m,\u001b[49m\n\u001b[32m   1818\u001b[39m \u001b[43m    \u001b[49m\u001b[38;5;28;43mself\u001b[39;49m\u001b[43m.\u001b[49m\u001b[43mbias_ih\u001b[49m\u001b[43m,\u001b[49m\n\u001b[32m   1819\u001b[39m \u001b[43m    \u001b[49m\u001b[38;5;28;43mself\u001b[39;49m\u001b[43m.\u001b[49m\u001b[43mbias_hh\u001b[49m\u001b[43m,\u001b[49m\n\u001b[32m   1820\u001b[39m \u001b[43m\u001b[49m\u001b[43m)\u001b[49m\n\u001b[32m   1822\u001b[39m \u001b[38;5;28;01mif\u001b[39;00m \u001b[38;5;129;01mnot\u001b[39;00m is_batched:\n\u001b[32m   1823\u001b[39m     ret = ret.squeeze(\u001b[32m0\u001b[39m)\n",
      "\u001b[31mKeyboardInterrupt\u001b[39m: "
     ]
    }
   ],
   "source": [
    "steps = 15000  # 25000\n",
    "load_frequency = 1000\n",
    "\n",
    "for i in trange(steps):\n",
    "    loss = compute_loss_on_batch(*sample_batch(train_words, word_to_translation, 32))\n",
    "\n",
    "    # train with backprop\n",
    "    loss.backward()\n",
    "    opt.step()\n",
    "    opt.zero_grad()\n",
    "\n",
    "    loss_history.append(loss.item())\n",
    "\n",
    "    if (i + 1) % load_frequency == 0:\n",
    "        torch.save(model.state_dict(), \"last_state_dict.pt\")\n",
    "    \n",
    "    if (i+1) % REPORT_FREQ == 0:\n",
    "        clear_output(True)\n",
    "        current_scores = score(test_words)\n",
    "        editdist_history.append(current_scores.mean())\n",
    "        print(\"llh=%.3f, mean score=%.3f\" %\n",
    "              (np.mean(loss_history[-10:]), np.mean(editdist_history[-10:])))\n",
    "        plt.figure(figsize=(12, 4))\n",
    "        plt.subplot(131)\n",
    "        plt.title('train loss / traning time')\n",
    "        plt.plot(loss_history)\n",
    "        plt.grid()\n",
    "        plt.subplot(132)\n",
    "        plt.title('val score distribution')\n",
    "        plt.hist(current_scores, bins=20)\n",
    "        plt.subplot(133)\n",
    "        plt.title('val score / traning time (lower is better)')\n",
    "        plt.plot(editdist_history)\n",
    "        plt.grid()\n",
    "        plt.show()"
   ]
  },
  {
   "cell_type": "code",
   "execution_count": null,
   "metadata": {
    "trusted": true
   },
   "outputs": [],
   "source": []
  },
  {
   "cell_type": "markdown",
   "metadata": {},
   "source": [
    "__How to interpret the plots:__\n",
    "\n",
    "* __Train loss__ - that's your model's crossentropy over minibatches. It should go down steadily. Most importantly, it shouldn't be NaN :)\n",
    "* __Val score distribution__ - distribution of translation edit distance (score) within batch. It should move to the left over time.\n",
    "* __Val score / training time__ - it's your current mean edit distance. This plot is much whimsier than loss, but make sure it goes below 8 by 2500 steps.\n",
    "\n",
    "If it doesn't, first try to re-create both model and opt. You may have changed its weight too much while debugging. If that doesn't help, it's debugging time."
   ]
  },
  {
   "cell_type": "code",
   "execution_count": null,
   "metadata": {
    "execution": {
     "iopub.status.busy": "2025-05-14T15:55:13.322232Z",
     "iopub.status.idle": "2025-05-14T15:55:13.322555Z",
     "shell.execute_reply": "2025-05-14T15:55:13.322406Z",
     "shell.execute_reply.started": "2025-05-14T15:55:13.322391Z"
    },
    "trusted": true
   },
   "outputs": [
    {
     "name": "stdout",
     "output_type": "stream",
     "text": [
      "מצרי טיראן -> marita trainel\n",
      "פתילת המדבר הגדולה -> gample of the market in the market\n",
      "כפניים -> kafanel\n",
      "תומאס בראש -> thomas barab\n",
      "ברוקטרים -> brottiral service\n",
      "קשר בוהן -> bohar hain hain haim\n",
      "מדד ביג מק -> big mack di mack\n",
      "הנדלר -> handler\n",
      "אן רייס -> anne rise\n",
      "קטגוריה:תוכנות שהושקו ב-1978 -> 1978 songs\n"
     ]
    }
   ],
   "source": [
    "for word in train_words[:10]:\n",
    "    print(\"%s -> %s\" % (word, translate([word])[0]))"
   ]
  },
  {
   "cell_type": "code",
   "execution_count": null,
   "metadata": {
    "execution": {
     "iopub.status.busy": "2025-05-14T15:55:13.323893Z",
     "iopub.status.idle": "2025-05-14T15:55:13.324251Z",
     "shell.execute_reply": "2025-05-14T15:55:13.324090Z",
     "shell.execute_reply.started": "2025-05-14T15:55:13.324074Z"
    },
    "trusted": true
   },
   "outputs": [
    {
     "name": "stderr",
     "output_type": "stream",
     "text": [
      "100%|██████████| 569/569 [00:08<00:00, 70.94it/s]"
     ]
    },
    {
     "name": "stdout",
     "output_type": "stream",
     "text": [
      "Supervised test score: 10.921346460590726\n"
     ]
    },
    {
     "name": "stderr",
     "output_type": "stream",
     "text": [
      "\n"
     ]
    }
   ],
   "source": [
    "test_scores = []\n",
    "for start_i in trange(0, len(test_words), 32):\n",
    "    batch_words = test_words[start_i:start_i+32]\n",
    "    batch_trans = translate(batch_words)\n",
    "    distances = list(map(get_distance, batch_words, batch_trans))\n",
    "    test_scores.extend(distances)\n",
    "\n",
    "print(\"Supervised test score:\", np.mean(test_scores))"
   ]
  },
  {
   "cell_type": "markdown",
   "metadata": {},
   "source": [
    "## Self-critical policy gradient (2 points)\n",
    "\n",
    "In this section you'll implement algorithm called self-critical sequence training (here's an [article](https://arxiv.org/abs/1612.00563)).\n",
    "\n",
    "The algorithm is a vanilla policy gradient with a special baseline.\n",
    "\n",
    "$$ \\nabla J = E_{x \\sim p(s)} E_{y \\sim \\pi(y|x)} \\nabla log \\pi(y|x) \\cdot (R(x,y) - b(x)) $$\n",
    "\n",
    "Here reward R(x,y) is a __negative levenshtein distance__ (since we minimize it). The baseline __b(x)__ represents how well model fares on word __x__.\n",
    "\n",
    "In practice, this means that we compute baseline as a score of greedy translation, $b(x) = R(x,y_{greedy}(x)) $.\n",
    "\n",
    "![img](https://github.com/yandexdataschool/Practical_RL/raw/master/yet_another_week/_resource/scheme.png)\n",
    "\n",
    "\n",
    "Luckily, we already obtained the required outputs: `model.greedy_translations, model.greedy_mask` and we only need to compute levenshtein using `compute_levenshtein` function.\n"
   ]
  },
  {
   "cell_type": "code",
   "execution_count": null,
   "metadata": {
    "execution": {
     "iopub.status.busy": "2025-05-14T15:55:13.325306Z",
     "iopub.status.idle": "2025-05-14T15:55:13.325665Z",
     "shell.execute_reply": "2025-05-14T15:55:13.325507Z",
     "shell.execute_reply.started": "2025-05-14T15:55:13.325491Z"
    },
    "trusted": true
   },
   "outputs": [],
   "source": [
    "def compute_reward(input_sequence, translations):\n",
    "    \"\"\" computes sample-wise reward given token ids for inputs and translations \"\"\"\n",
    "    distances = list(map(get_distance,\n",
    "                         inp_voc.to_lines(input_sequence.detach().cpu().numpy()),\n",
    "                         out_voc.to_lines(translations.detach().cpu().numpy())))\n",
    "    # use negative levenshtein distance so that larger reward means better policy\n",
    "    return - torch.tensor(distances, dtype=torch.int64, device=device)  # 1-D tensor"
   ]
  },
  {
   "cell_type": "code",
   "execution_count": null,
   "metadata": {
    "execution": {
     "iopub.status.busy": "2025-05-14T15:55:13.326940Z",
     "iopub.status.idle": "2025-05-14T15:55:13.327164Z",
     "shell.execute_reply": "2025-05-14T15:55:13.327069Z",
     "shell.execute_reply.started": "2025-05-14T15:55:13.327060Z"
    },
    "trusted": true
   },
   "outputs": [],
   "source": [
    "def scst_objective_on_batch(input_sequence, max_len=MAX_OUTPUT_LENGTH):\n",
    "    \"\"\" Compute pseudo-loss for policy gradient given a batch of sources \"\"\"\n",
    "    input_sequence = torch.tensor(inp_voc.to_matrix(input_sequence), dtype=torch.int64)\n",
    "    # use model to __sample__ symbolic translations given input_sequence\n",
    "    sample_translations, sample_logp = model.translate(input_sequence, greedy=False, max_len=100)\n",
    "    # use model to __greedy__ symbolic translations given input_sequence\n",
    "    greedy_translations, greedy_logp = model.translate(input_sequence, greedy=True, max_len=100)\n",
    "\n",
    "    # sample_translations.shape = [B, T]\n",
    "    # sample_logp.shape = [B, T, V]\n",
    "    \n",
    "    # compute rewards and advantage\n",
    "    rewards = compute_reward(input_sequence, sample_translations)\n",
    "    baseline = compute_reward(input_sequence, greedy_translations)  \n",
    "\n",
    "    # compute advantage using rewards and baseline\n",
    "    advantage = rewards - baseline\n",
    "\n",
    "    # compute log_pi(a_t|s_t), shape = [batch, seq_length]\n",
    "    logp_sample = torch.gather(sample_logp, 2, sample_translations.unsqueeze(-1)).squeeze(-1)\n",
    "    # ^-- hint: look at how crossentropy is implemented in supervised learning loss above\n",
    "    # mind the sign - this one should not be multiplied by -1 :)\n",
    "\n",
    "    # policy gradient pseudo-loss. Gradient of J is exactly policy gradient.\n",
    "    J = logp_sample * advantage[:, None]\n",
    "\n",
    "\n",
    "    assert J.dim() == 2, \"please return elementwise objective, don't compute mean just yet\"\n",
    "\n",
    "    # average with mask\n",
    "    mask = infer_mask(sample_translations, out_voc.eos_ix)\n",
    "    loss = -torch.sum(J * mask) / torch.sum(mask)\n",
    "    # regularize with negative entropy. Don't forget the sign!\n",
    "    # note: for entropy you need probabilities for all tokens (sample_logp), not just logp_sample\n",
    "    entropy = -(logp_sample * torch.exp(logp_sample))\n",
    "    # hint: you can get sample probabilities from sample_logp using math :)\n",
    "    \n",
    "    assert entropy.dim(\n",
    "    ) == 2, \"please make sure elementwise entropy is of shape [batch,time]\"\n",
    "\n",
    "    reg = - 0.01 * torch.sum(entropy * mask) / torch.sum(mask)\n",
    "\n",
    "    return loss + reg, torch.sum(entropy * mask) / torch.sum(mask)"
   ]
  },
  {
   "cell_type": "markdown",
   "metadata": {},
   "source": [
    "# Policy gradient training\n"
   ]
  },
  {
   "cell_type": "code",
   "execution_count": null,
   "metadata": {
    "execution": {
     "iopub.status.busy": "2025-05-14T15:55:13.327742Z",
     "iopub.status.idle": "2025-05-14T15:55:13.327971Z",
     "shell.execute_reply": "2025-05-14T15:55:13.327866Z",
     "shell.execute_reply.started": "2025-05-14T15:55:13.327857Z"
    },
    "trusted": true
   },
   "outputs": [],
   "source": [
    "entropy_history = [np.nan] * len(loss_history)\n",
    "opt = torch.optim.Adam(model.parameters(), lr=1e-5)"
   ]
  },
  {
   "cell_type": "code",
   "execution_count": null,
   "metadata": {
    "execution": {
     "iopub.status.busy": "2025-05-14T15:55:13.328905Z",
     "iopub.status.idle": "2025-05-14T15:55:13.329251Z",
     "shell.execute_reply": "2025-05-14T15:55:13.329117Z",
     "shell.execute_reply.started": "2025-05-14T15:55:13.329100Z"
    },
    "trusted": true
   },
   "outputs": [
    {
     "name": "stdout",
     "output_type": "stream",
     "text": [
      "(array(['פייסבוק', 'הנרי מורטון סטנלי', 'ארמון מויקה', 'קאסאציו',\n",
      "       'קטגוריה:רבנים בולגרים', 'מילונאות', 'קטגוריה:ראשות ממשלה',\n",
      "       'כנסיית סן פייר', 'ריקולה', 'תמונה:crispusallen.png',\n",
      "       'אנדרטת הכוחות המזוינים', 'וילהלם פון לב', 'סבטוסלב', 'פטיש',\n",
      "       'מיכאיל קסיאנוב', 'יוזנה', 'פרנק ריברי', 'קאיה קאנפי',\n",
      "       'קטגוריה:מתרגמים מאנגלית', 'אודמורטים', 'אפקט הדומינו',\n",
      "       'גברים מעדיפים בלונדיניות', 'רובינה', 'קטגוריה:1808 בארצות הברית',\n",
      "       'רפסודת המדוזה', 'קלוד שברול', 'כמהין',\n",
      "       'מלך סקוטלנד מלקולם הראשון', 'משתמש:sreebot', 'גירוי מוחי עמוק',\n",
      "       'קטגוריה:חיסונים', 'מורולה'], dtype='<U173'), ['facebook', 'henry morton stanley', 'moika palace', 'cassation', 'bulgarian rabbis', 'lexicography', 'female heads of government', 'caen church of saint-pierre', 'ricola', 'crispusallen.png', 'armed forces memorial', 'wilhelm ritter von leeb', 'svetoslav', 'hammer', 'mikhail kasyanov', 'yuzna', 'franck ribéry', 'kaia kanepi', 'translators from english', 'udmurt people', 'domino effect', 'gentlemen prefer blondes', 'rubina', '1808 in the united states', 'the raft of the medusa', 'claude chabrol', 'kmehin', 'malcolm i of scotland', 'sreebot', 'deep brain stimulation', 'vaccines', 'morula'])\n"
     ]
    }
   ],
   "source": [
    "print(sample_batch(train_words, word_to_translation, 32))"
   ]
  },
  {
   "cell_type": "code",
   "execution_count": null,
   "metadata": {},
   "outputs": [],
   "source": [
    "load_frequency = 100"
   ]
  },
  {
   "cell_type": "code",
   "execution_count": null,
   "metadata": {
    "execution": {
     "iopub.status.busy": "2025-05-14T15:55:13.330432Z",
     "iopub.status.idle": "2025-05-14T15:55:13.330726Z",
     "shell.execute_reply": "2025-05-14T15:55:13.330577Z",
     "shell.execute_reply.started": "2025-05-14T15:55:13.330561Z"
    },
    "trusted": true
   },
   "outputs": [
    {
     "data": {
      "image/png": "[encoded data removed]",
      "text/plain": [
       "<Figure size 1200x400 with 3 Axes>"
      ]
     },
     "metadata": {},
     "output_type": "display_data"
    },
    {
     "name": "stderr",
     "output_type": "stream",
     "text": [
      "  1%|          | 102/10000 [00:04<09:49, 16.78it/s]"
     ]
    },
    {
     "name": "stdout",
     "output_type": "stream",
     "text": [
      "J=-1.463, mean score=9.605\n"
     ]
    },
    {
     "name": "stderr",
     "output_type": "stream",
     "text": [
      "  2%|▏         | 161/10000 [00:06<06:43, 24.41it/s]\n"
     ]
    },
    {
     "ename": "KeyboardInterrupt",
     "evalue": "",
     "output_type": "error",
     "traceback": [
      "\u001b[31m---------------------------------------------------------------------------\u001b[39m",
      "\u001b[31mKeyboardInterrupt\u001b[39m                         Traceback (most recent call last)",
      "\u001b[36mCell\u001b[39m\u001b[36m \u001b[39m\u001b[32mIn[53]\u001b[39m\u001b[32m, line 2\u001b[39m\n\u001b[32m      1\u001b[39m \u001b[38;5;28;01mfor\u001b[39;00m i \u001b[38;5;129;01min\u001b[39;00m trange(\u001b[32m10000\u001b[39m):\n\u001b[32m----> \u001b[39m\u001b[32m2\u001b[39m     loss, ent = \u001b[43mscst_objective_on_batch\u001b[49m\u001b[43m(\u001b[49m\n\u001b[32m      3\u001b[39m \u001b[43m        \u001b[49m\u001b[43msample_batch\u001b[49m\u001b[43m(\u001b[49m\u001b[43mtrain_words\u001b[49m\u001b[43m,\u001b[49m\u001b[43m \u001b[49m\u001b[43mword_to_translation\u001b[49m\u001b[43m,\u001b[49m\u001b[43m \u001b[49m\u001b[32;43m32\u001b[39;49m\u001b[43m)\u001b[49m\u001b[43m[\u001b[49m\u001b[32;43m0\u001b[39;49m\u001b[43m]\u001b[49m\u001b[43m)\u001b[49m  \u001b[38;5;66;03m# [0] = only source sentence\u001b[39;00m\n\u001b[32m      4\u001b[39m     \u001b[38;5;66;03m# print(loss.item(), ent.item())\u001b[39;00m\n\u001b[32m      5\u001b[39m     \u001b[38;5;66;03m# train with backprop\u001b[39;00m\n\u001b[32m      6\u001b[39m     loss.backward()\n",
      "\u001b[36mCell\u001b[39m\u001b[36m \u001b[39m\u001b[32mIn[44]\u001b[39m\u001b[32m, line 5\u001b[39m, in \u001b[36mscst_objective_on_batch\u001b[39m\u001b[34m(input_sequence, max_len)\u001b[39m\n\u001b[32m      3\u001b[39m input_sequence = torch.tensor(inp_voc.to_matrix(input_sequence), dtype=torch.int64)\n\u001b[32m      4\u001b[39m \u001b[38;5;66;03m# use model to __sample__ symbolic translations given input_sequence\u001b[39;00m\n\u001b[32m----> \u001b[39m\u001b[32m5\u001b[39m sample_translations, sample_logp = \u001b[43mmodel\u001b[49m\u001b[43m.\u001b[49m\u001b[43mtranslate\u001b[49m\u001b[43m(\u001b[49m\u001b[43minput_sequence\u001b[49m\u001b[43m,\u001b[49m\u001b[43m \u001b[49m\u001b[43mgreedy\u001b[49m\u001b[43m=\u001b[49m\u001b[38;5;28;43;01mFalse\u001b[39;49;00m\u001b[43m,\u001b[49m\u001b[43m \u001b[49m\u001b[43mmax_len\u001b[49m\u001b[43m=\u001b[49m\u001b[32;43m100\u001b[39;49m\u001b[43m)\u001b[49m\n\u001b[32m      6\u001b[39m \u001b[38;5;66;03m# use model to __greedy__ symbolic translations given input_sequence\u001b[39;00m\n\u001b[32m      7\u001b[39m greedy_translations, greedy_logp = model.translate(input_sequence, greedy=\u001b[38;5;28;01mTrue\u001b[39;00m, max_len=\u001b[32m100\u001b[39m)\n",
      "\u001b[36mFile \u001b[39m\u001b[32m~/study/rl/Practical_RL/week07_seq2seq/improved_model.py:163\u001b[39m, in \u001b[36mTranslationModel.translate\u001b[39m\u001b[34m(self, inp, greedy, max_len, eps, **flags)\u001b[39m\n\u001b[32m    157\u001b[39m \u001b[38;5;66;03m# we need this layer, because without it\u001b[39;00m\n\u001b[32m    158\u001b[39m \u001b[38;5;66;03m# next word which this layer predicts will be relatively shifted by 1\u001b[39;00m\n\u001b[32m    159\u001b[39m \u001b[38;5;66;03m# By adding this layer we will level that shift\u001b[39;00m\n\u001b[32m    161\u001b[39m out_seq = [bos]\n\u001b[32m--> \u001b[39m\u001b[32m163\u001b[39m hid_state = \u001b[38;5;28;43mself\u001b[39;49m\u001b[43m.\u001b[49m\u001b[43mencode\u001b[49m\u001b[43m(\u001b[49m\u001b[43minp\u001b[49m\u001b[43m,\u001b[49m\u001b[43m \u001b[49m\u001b[43m*\u001b[49m\u001b[43m*\u001b[49m\u001b[43mflags\u001b[49m\u001b[43m)\u001b[49m\n\u001b[32m    164\u001b[39m \u001b[38;5;28;01mwhile\u001b[39;00m \u001b[38;5;28;01mTrue\u001b[39;00m:  \u001b[38;5;66;03m# auto-regressive inference\u001b[39;00m\n\u001b[32m    165\u001b[39m     hid_state, logits = \u001b[38;5;28mself\u001b[39m.decode(hid_state, out_seq[-\u001b[32m1\u001b[39m], **flags)\n",
      "\u001b[36mFile \u001b[39m\u001b[32m~/study/rl/Practical_RL/week07_seq2seq/improved_model.py:90\u001b[39m, in \u001b[36mTranslationModel.encode\u001b[39m\u001b[34m(self, inp, **flags)\u001b[39m\n\u001b[32m     84\u001b[39m \u001b[38;5;28;01mdef\u001b[39;00m\u001b[38;5;250m \u001b[39m\u001b[34mencode\u001b[39m(\u001b[38;5;28mself\u001b[39m, inp, **flags):\n\u001b[32m     85\u001b[39m \u001b[38;5;250m    \u001b[39m\u001b[33;03m\"\"\"\u001b[39;00m\n\u001b[32m     86\u001b[39m \u001b[33;03m    Takes symbolic input sequence, computes initial state\u001b[39;00m\n\u001b[32m     87\u001b[39m \u001b[33;03m    :param inp: input tokens, int64 vector of shape [batch]\u001b[39;00m\n\u001b[32m     88\u001b[39m \u001b[33;03m    :return: a list of initial decoder state tensors\u001b[39;00m\n\u001b[32m     89\u001b[39m \u001b[33;03m    \"\"\"\u001b[39;00m\n\u001b[32m---> \u001b[39m\u001b[32m90\u001b[39m     \u001b[38;5;28;01mreturn\u001b[39;00m \u001b[38;5;28;43mself\u001b[39;49m\u001b[43m.\u001b[49m\u001b[43mencoder\u001b[49m\u001b[43m(\u001b[49m\u001b[43minp\u001b[49m\u001b[43m)\u001b[49m\n",
      "\u001b[36mFile \u001b[39m\u001b[32m~/study/rl/.conda/lib/python3.11/site-packages/torch/nn/modules/module.py:1751\u001b[39m, in \u001b[36mModule._wrapped_call_impl\u001b[39m\u001b[34m(self, *args, **kwargs)\u001b[39m\n\u001b[32m   1749\u001b[39m     \u001b[38;5;28;01mreturn\u001b[39;00m \u001b[38;5;28mself\u001b[39m._compiled_call_impl(*args, **kwargs)  \u001b[38;5;66;03m# type: ignore[misc]\u001b[39;00m\n\u001b[32m   1750\u001b[39m \u001b[38;5;28;01melse\u001b[39;00m:\n\u001b[32m-> \u001b[39m\u001b[32m1751\u001b[39m     \u001b[38;5;28;01mreturn\u001b[39;00m \u001b[38;5;28;43mself\u001b[39;49m\u001b[43m.\u001b[49m\u001b[43m_call_impl\u001b[49m\u001b[43m(\u001b[49m\u001b[43m*\u001b[49m\u001b[43margs\u001b[49m\u001b[43m,\u001b[49m\u001b[43m \u001b[49m\u001b[43m*\u001b[49m\u001b[43m*\u001b[49m\u001b[43mkwargs\u001b[49m\u001b[43m)\u001b[49m\n",
      "\u001b[36mFile \u001b[39m\u001b[32m~/study/rl/.conda/lib/python3.11/site-packages/torch/nn/modules/module.py:1762\u001b[39m, in \u001b[36mModule._call_impl\u001b[39m\u001b[34m(self, *args, **kwargs)\u001b[39m\n\u001b[32m   1757\u001b[39m \u001b[38;5;66;03m# If we don't have any hooks, we want to skip the rest of the logic in\u001b[39;00m\n\u001b[32m   1758\u001b[39m \u001b[38;5;66;03m# this function, and just call forward.\u001b[39;00m\n\u001b[32m   1759\u001b[39m \u001b[38;5;28;01mif\u001b[39;00m \u001b[38;5;129;01mnot\u001b[39;00m (\u001b[38;5;28mself\u001b[39m._backward_hooks \u001b[38;5;129;01mor\u001b[39;00m \u001b[38;5;28mself\u001b[39m._backward_pre_hooks \u001b[38;5;129;01mor\u001b[39;00m \u001b[38;5;28mself\u001b[39m._forward_hooks \u001b[38;5;129;01mor\u001b[39;00m \u001b[38;5;28mself\u001b[39m._forward_pre_hooks\n\u001b[32m   1760\u001b[39m         \u001b[38;5;129;01mor\u001b[39;00m _global_backward_pre_hooks \u001b[38;5;129;01mor\u001b[39;00m _global_backward_hooks\n\u001b[32m   1761\u001b[39m         \u001b[38;5;129;01mor\u001b[39;00m _global_forward_hooks \u001b[38;5;129;01mor\u001b[39;00m _global_forward_pre_hooks):\n\u001b[32m-> \u001b[39m\u001b[32m1762\u001b[39m     \u001b[38;5;28;01mreturn\u001b[39;00m \u001b[43mforward_call\u001b[49m\u001b[43m(\u001b[49m\u001b[43m*\u001b[49m\u001b[43margs\u001b[49m\u001b[43m,\u001b[49m\u001b[43m \u001b[49m\u001b[43m*\u001b[49m\u001b[43m*\u001b[49m\u001b[43mkwargs\u001b[49m\u001b[43m)\u001b[49m\n\u001b[32m   1764\u001b[39m result = \u001b[38;5;28;01mNone\u001b[39;00m\n\u001b[32m   1765\u001b[39m called_always_called_hooks = \u001b[38;5;28mset\u001b[39m()\n",
      "\u001b[36mFile \u001b[39m\u001b[32m~/study/rl/Practical_RL/week07_seq2seq/improved_model.py:37\u001b[39m, in \u001b[36mEncoder.forward\u001b[39m\u001b[34m(self, inp)\u001b[39m\n\u001b[32m     34\u001b[39m enc_last = enc_seq1_2dir[\u001b[38;5;28mrange\u001b[39m(\u001b[32m0\u001b[39m, enc_seq1.shape[\u001b[32m0\u001b[39m]), end_index.detach(), :, :]  \u001b[38;5;66;03m# [B, 2,  H]\u001b[39;00m\n\u001b[32m     35\u001b[39m enc_last_forward = enc_last[:, \u001b[32m0\u001b[39m, :]  \u001b[38;5;66;03m# [B, H]\u001b[39;00m\n\u001b[32m---> \u001b[39m\u001b[32m37\u001b[39m dec_start1 = \u001b[38;5;28;43mself\u001b[39;49m\u001b[43m.\u001b[49m\u001b[43mdec_start_l1\u001b[49m\u001b[43m(\u001b[49m\u001b[43mtorch\u001b[49m\u001b[43m.\u001b[49m\u001b[43mcat\u001b[49m\u001b[43m(\u001b[49m\u001b[43m(\u001b[49m\u001b[43menc_last_forward\u001b[49m\u001b[43m,\u001b[49m\u001b[43m \u001b[49m\u001b[43menc_last_backward\u001b[49m\u001b[43m)\u001b[49m\u001b[43m,\u001b[49m\u001b[43m \u001b[49m\u001b[43mdim\u001b[49m\u001b[43m=\u001b[49m\u001b[43m-\u001b[49m\u001b[32;43m1\u001b[39;49m\u001b[43m)\u001b[49m\u001b[43m)\u001b[49m  \u001b[38;5;66;03m# [B, H]\u001b[39;00m\n\u001b[32m     39\u001b[39m enc_seq2, _ = \u001b[38;5;28mself\u001b[39m.uni_gru(enc_seq_out1)\n\u001b[32m     40\u001b[39m enc_last2 = enc_seq2[\u001b[38;5;28mrange\u001b[39m(\u001b[32m0\u001b[39m, enc_seq2.shape[\u001b[32m0\u001b[39m]), end_index.detach(), :]  \u001b[38;5;66;03m# [B, H]\u001b[39;00m\n",
      "\u001b[36mFile \u001b[39m\u001b[32m~/study/rl/.conda/lib/python3.11/site-packages/torch/nn/modules/module.py:1751\u001b[39m, in \u001b[36mModule._wrapped_call_impl\u001b[39m\u001b[34m(self, *args, **kwargs)\u001b[39m\n\u001b[32m   1749\u001b[39m     \u001b[38;5;28;01mreturn\u001b[39;00m \u001b[38;5;28mself\u001b[39m._compiled_call_impl(*args, **kwargs)  \u001b[38;5;66;03m# type: ignore[misc]\u001b[39;00m\n\u001b[32m   1750\u001b[39m \u001b[38;5;28;01melse\u001b[39;00m:\n\u001b[32m-> \u001b[39m\u001b[32m1751\u001b[39m     \u001b[38;5;28;01mreturn\u001b[39;00m \u001b[38;5;28;43mself\u001b[39;49m\u001b[43m.\u001b[49m\u001b[43m_call_impl\u001b[49m\u001b[43m(\u001b[49m\u001b[43m*\u001b[49m\u001b[43margs\u001b[49m\u001b[43m,\u001b[49m\u001b[43m \u001b[49m\u001b[43m*\u001b[49m\u001b[43m*\u001b[49m\u001b[43mkwargs\u001b[49m\u001b[43m)\u001b[49m\n",
      "\u001b[36mFile \u001b[39m\u001b[32m~/study/rl/.conda/lib/python3.11/site-packages/torch/nn/modules/module.py:1762\u001b[39m, in \u001b[36mModule._call_impl\u001b[39m\u001b[34m(self, *args, **kwargs)\u001b[39m\n\u001b[32m   1757\u001b[39m \u001b[38;5;66;03m# If we don't have any hooks, we want to skip the rest of the logic in\u001b[39;00m\n\u001b[32m   1758\u001b[39m \u001b[38;5;66;03m# this function, and just call forward.\u001b[39;00m\n\u001b[32m   1759\u001b[39m \u001b[38;5;28;01mif\u001b[39;00m \u001b[38;5;129;01mnot\u001b[39;00m (\u001b[38;5;28mself\u001b[39m._backward_hooks \u001b[38;5;129;01mor\u001b[39;00m \u001b[38;5;28mself\u001b[39m._backward_pre_hooks \u001b[38;5;129;01mor\u001b[39;00m \u001b[38;5;28mself\u001b[39m._forward_hooks \u001b[38;5;129;01mor\u001b[39;00m \u001b[38;5;28mself\u001b[39m._forward_pre_hooks\n\u001b[32m   1760\u001b[39m         \u001b[38;5;129;01mor\u001b[39;00m _global_backward_pre_hooks \u001b[38;5;129;01mor\u001b[39;00m _global_backward_hooks\n\u001b[32m   1761\u001b[39m         \u001b[38;5;129;01mor\u001b[39;00m _global_forward_hooks \u001b[38;5;129;01mor\u001b[39;00m _global_forward_pre_hooks):\n\u001b[32m-> \u001b[39m\u001b[32m1762\u001b[39m     \u001b[38;5;28;01mreturn\u001b[39;00m \u001b[43mforward_call\u001b[49m\u001b[43m(\u001b[49m\u001b[43m*\u001b[49m\u001b[43margs\u001b[49m\u001b[43m,\u001b[49m\u001b[43m \u001b[49m\u001b[43m*\u001b[49m\u001b[43m*\u001b[49m\u001b[43mkwargs\u001b[49m\u001b[43m)\u001b[49m\n\u001b[32m   1764\u001b[39m result = \u001b[38;5;28;01mNone\u001b[39;00m\n\u001b[32m   1765\u001b[39m called_always_called_hooks = \u001b[38;5;28mset\u001b[39m()\n",
      "\u001b[36mFile \u001b[39m\u001b[32m~/study/rl/.conda/lib/python3.11/site-packages/torch/nn/modules/linear.py:125\u001b[39m, in \u001b[36mLinear.forward\u001b[39m\u001b[34m(self, input)\u001b[39m\n\u001b[32m    124\u001b[39m \u001b[38;5;28;01mdef\u001b[39;00m\u001b[38;5;250m \u001b[39m\u001b[34mforward\u001b[39m(\u001b[38;5;28mself\u001b[39m, \u001b[38;5;28minput\u001b[39m: Tensor) -> Tensor:\n\u001b[32m--> \u001b[39m\u001b[32m125\u001b[39m     \u001b[38;5;28;01mreturn\u001b[39;00m \u001b[43mF\u001b[49m\u001b[43m.\u001b[49m\u001b[43mlinear\u001b[49m\u001b[43m(\u001b[49m\u001b[38;5;28;43minput\u001b[39;49m\u001b[43m,\u001b[49m\u001b[43m \u001b[49m\u001b[38;5;28;43mself\u001b[39;49m\u001b[43m.\u001b[49m\u001b[43mweight\u001b[49m\u001b[43m,\u001b[49m\u001b[43m \u001b[49m\u001b[38;5;28;43mself\u001b[39;49m\u001b[43m.\u001b[49m\u001b[43mbias\u001b[49m\u001b[43m)\u001b[49m\n",
      "\u001b[31mKeyboardInterrupt\u001b[39m: "
     ]
    }
   ],
   "source": [
    "for i in trange(10000):\n",
    "    loss, ent = scst_objective_on_batch(\n",
    "        sample_batch(train_words, word_to_translation, 32)[0])  # [0] = only source sentence\n",
    "    # print(loss.item(), ent.item())\n",
    "    # train with backprop\n",
    "    loss.backward()\n",
    "    opt.step()\n",
    "    opt.zero_grad()\n",
    "\n",
    "    loss_history.append(loss.item())\n",
    "    entropy_history.append(ent.item())\n",
    "\n",
    "    if (i + 1) % load_frequency == 0:\n",
    "        torch.save(model.state_dict(), \"last_state_dict_RL.pt\")\n",
    "\n",
    "    if (i+1) % REPORT_FREQ == 0:\n",
    "        clear_output(True)\n",
    "        current_scores = score(test_words)\n",
    "        editdist_history.append(current_scores.mean())\n",
    "        plt.figure(figsize=(12, 4))\n",
    "        plt.subplot(131)\n",
    "        plt.title('val score distribution')\n",
    "        plt.hist(current_scores, bins=20)\n",
    "        plt.subplot(132)\n",
    "        plt.title('val score / traning time')\n",
    "        plt.plot(editdist_history)\n",
    "        plt.grid()\n",
    "        plt.subplot(133)\n",
    "        plt.title('policy entropy / traning time')\n",
    "        plt.plot(entropy_history)\n",
    "        plt.grid()\n",
    "        plt.show()\n",
    "        print(\"J=%.3f, mean score=%.3f\" %\n",
    "              (np.mean(loss_history[-10:]), np.mean(editdist_history[-10:])))"
   ]
  },
  {
   "cell_type": "markdown",
   "metadata": {},
   "source": [
    "__Debugging tips:__\n",
    "<img src=https://github.com/yandexdataschool/Practical_RL/raw/master/yet_another_week/_resource/do_something_scst.png width=400>\n",
    "\n",
    " * As usual, don't expect improvements right away, but in general the model should be able to show some positive changes by 5k steps.\n",
    " * Entropy is a good indicator of many problems.\n",
    "   * If it reaches zero, you may need greater entropy regularizer.\n",
    "   * If it has rapid changes time to time, you may need gradient clipping.\n",
    "   * If it oscillates up and down in an erratic manner... it's perfectly okay for entropy to do so. But it should decrease at the end.\n",
    "\n",
    " * We don't show loss_history cuz it's uninformative for pseudo-losses in policy gradient. However, if something goes wrong you can check it to see if everything isn't a constant zero."
   ]
  },
  {
   "cell_type": "markdown",
   "metadata": {},
   "source": [
    "### Results"
   ]
  },
  {
   "cell_type": "code",
   "execution_count": null,
   "metadata": {
    "execution": {
     "iopub.status.busy": "2025-05-14T15:55:13.332170Z",
     "iopub.status.idle": "2025-05-14T15:55:13.332415Z",
     "shell.execute_reply": "2025-05-14T15:55:13.332292Z",
     "shell.execute_reply.started": "2025-05-14T15:55:13.332283Z"
    },
    "trusted": true
   },
   "outputs": [
    {
     "name": "stdout",
     "output_type": "stream",
     "text": [
      "מצרי טיראן -> marie taran\n",
      "פתילת המדבר הגדולה -> gadal game\n",
      "כפניים -> capan\n",
      "תומאס בראש -> thomas bar\n",
      "ברוקטרים -> brottir\n",
      "קשר בוהן -> bochan hor\n",
      "מדד ביג מק -> big mack\n",
      "הנדלר -> handaler\n",
      "אן רייס -> an ris\n",
      "קטגוריה:תוכנות שהושקו ב-1978 -> 1978 songs\n"
     ]
    }
   ],
   "source": [
    "for word in train_words[:10]:\n",
    "    print(\"%s -> %s\" % (word, translate([word])[0]))"
   ]
  },
  {
   "cell_type": "code",
   "execution_count": null,
   "metadata": {
    "execution": {
     "iopub.status.busy": "2025-05-14T15:55:13.334073Z",
     "iopub.status.idle": "2025-05-14T15:55:13.334365Z",
     "shell.execute_reply": "2025-05-14T15:55:13.334210Z",
     "shell.execute_reply.started": "2025-05-14T15:55:13.334200Z"
    },
    "trusted": true
   },
   "outputs": [
    {
     "name": "stderr",
     "output_type": "stream",
     "text": [
      "100%|██████████| 569/569 [00:05<00:00, 100.20it/s]"
     ]
    },
    {
     "name": "stdout",
     "output_type": "stream",
     "text": [
      "Supervised test score: 9.239645784060283\n"
     ]
    },
    {
     "name": "stderr",
     "output_type": "stream",
     "text": [
      "\n"
     ]
    }
   ],
   "source": [
    "test_scores = []\n",
    "for start_i in trange(0, len(test_words), 32):\n",
    "    batch_words = test_words[start_i:start_i+32]\n",
    "    batch_trans = translate(batch_words)\n",
    "    distances = list(map(get_distance, batch_words, batch_trans))\n",
    "    test_scores.extend(distances)\n",
    "print(\"Supervised test score:\", np.mean(test_scores))\n",
    "\n",
    "# ^^ If you get Out Of MemoryError, please replace this with batched computation"
   ]
  },
  {
   "cell_type": "markdown",
   "metadata": {},
   "source": [
    "## Step 6: Make it actually work (5++ pts)\n",
    "\n",
    "In this section, we want you to finally __restart with EASY_MODE=False__ and experiment to find a good model/curriculum for that task.\n",
    "\n",
    "We recommend you to start with the following architecture\n",
    "\n",
    "```\n",
    "encoder---decoder\n",
    "\n",
    "           P(y|h)\n",
    "             ^\n",
    " LSTM  ->   LSTM\n",
    "  ^          ^\n",
    " biLSTM  ->   LSTM\n",
    "  ^          ^\n",
    "input       y_prev\n",
    "```\n",
    "\n",
    "__Note:__ you can fit all 4 state tensors of both LSTMs into in a single state - just assume that it contains, for example, [h0, c0, h1, c1] - pack it in encode and update in decode.\n",
    "\n",
    "\n",
    "Here are some cool ideas on what you can do then.\n",
    "\n",
    "__General tips & tricks:__\n",
    "* You will likely need to adjust pre-training time for such a network.\n",
    "* Supervised pre-training may benefit from clipping gradients somehow.\n",
    "* SCST may indulge a higher learning rate in some cases and changing entropy regularizer over time.\n",
    "* It's often useful to save pre-trained model parameters to not re-train it every time you want new policy gradient parameters.\n",
    "* When leaving training for nighttime, try setting REPORT_FREQ to a larger value (e.g. 500) not to waste time on it.\n",
    "\n",
    "__Formal criteria:__\n",
    "To get 5 points, we want you to build an architecture that:\n",
    "* _doesn't consist of single GRU_\n",
    "* _works better_ than single GRU baseline.\n",
    "* We also want you to provide either learning curve or trained model, preferably both\n",
    "* ... and write a brief report or experiment log describing what you did and how it fared.\n",
    "\n",
    "### Attention\n",
    "There's more than one way to connect decoder to encoder\n",
    "  * __Vanilla:__ layer_i of encoder last state goes to layer_i of decoder initial state\n",
    "  * __Every tick:__ feed encoder last state _on every iteration_ of decoder.\n",
    "  * __Attention:__ allow decoder to \"peek\" at one (or several) positions of encoded sequence on every tick.\n",
    "\n",
    "The most effective (and cool) of those is, of course, attention.\n",
    "You can read more about attention [in this nice blog post](https://distill.pub/2016/augmented-rnns/). The easiest way to begin is to use \"soft\" attention with \"additive\" or \"dot-product\" intermediate layers.\n",
    "\n",
    "__Tips__\n",
    "* Model usually generalizes better if you no longer allow decoder to see final encoder state\n",
    "* Once your model made it through several epochs, it is a good idea to visualize attention maps to understand what your model has actually learned\n",
    "\n",
    "* There's more stuff [here](bonus_pytorch.ipynb)\n",
    "* If you opted for hard attention, we recommend [gumbel-softmax](https://blog.evjang.com/2016/11/tutorial-categorical-variational.html) instead of sampling. Also, please make sure soft attention works fine before you switch to hard.\n",
    "\n",
    "### UREX\n",
    "* This is a way to improve exploration in policy-based settings. The main idea is that you find and upweight under-appreciated actions.\n",
    "* Here's [video](https://www.youtube.com/watch?v=fZNyHoXgV7M&feature=youtu.be&t=3444)\n",
    " and an [article](https://arxiv.org/abs/1611.09321).\n",
    "* You may want to reduce batch size 'cuz UREX requires you to sample multiple times per source sentence.\n",
    "* Once you got it working, try using experience replay with importance sampling instead of (in addition to) basic UREX.\n",
    "\n",
    "### Some additional ideas:\n",
    "* (advanced deep learning) It may be a good idea to first train on small phrases and then adapt to larger ones (a.k.a. training curriculum).\n",
    "* (advanced nlp) You may want to switch from raw utf8 to something like unicode or even syllables to make the task easier.\n",
    "* (advanced nlp) Since Hebrew words are written __with vowels omitted__, you may want to use a small Hebrew vowel markup dataset at `he-pron-wiktionary.txt`.\n",
    "\n"
   ]
  },
  {
   "cell_type": "code",
   "execution_count": null,
   "metadata": {
    "execution": {
     "iopub.status.busy": "2025-05-14T15:55:13.335408Z",
     "iopub.status.idle": "2025-05-14T15:55:13.335686Z",
     "shell.execute_reply": "2025-05-14T15:55:13.335580Z",
     "shell.execute_reply.started": "2025-05-14T15:55:13.335567Z"
    },
    "trusted": true
   },
   "outputs": [],
   "source": [
    "assert not EASY_MODE, \"make sure you set EASY_MODE = False at the top of the notebook.\""
   ]
  },
  {
   "cell_type": "markdown",
   "metadata": {},
   "source": [
    "`[your report/log here or anywhere you please]`"
   ]
  },
  {
   "cell_type": "markdown",
   "metadata": {},
   "source": [
    "__Contributions:__ This notebook is brought to you by\n",
    "* Yandex [MT team](https://tech.yandex.com/translate/)\n",
    "* Denis Mazur ([DeniskaMazur](https://github.com/DeniskaMazur)), Oleg Vasilev ([Omrigan](https://github.com/Omrigan/)), Dmitry Emelyanenko ([TixFeniks](https://github.com/tixfeniks)) and Fedor Ratnikov ([justheuristic](https://github.com/justheuristic/))\n",
    "* Dataset is parsed from [Wiktionary](https://en.wiktionary.org), which is under CC-BY-SA and GFDL licenses.\n"
   ]
  }
 ],
 "metadata": {
  "kaggle": {
   "accelerator": "gpu",
   "dataSources": [
    {
     "datasetId": 7418939,
     "sourceId": 11812204,
     "sourceType": "datasetVersion"
    }
   ],
   "dockerImageVersionId": 31041,
   "isGpuEnabled": true,
   "isInternetEnabled": true,
   "language": "python",
   "sourceType": "notebook"
  },
  "kernelspec": {
   "display_name": "Python 3",
   "language": "python",
   "name": "python3"
  },
  "language_info": {
   "codemirror_mode": {
    "name": "ipython",
    "version": 3
   },
   "file_extension": ".py",
   "mimetype": "text/x-python",
   "name": "python",
   "nbconvert_exporter": "python",
   "pygments_lexer": "ipython3",
   "version": "3.11.11"
  }
 },
 "nbformat": 4,
 "nbformat_minor": 4
}
