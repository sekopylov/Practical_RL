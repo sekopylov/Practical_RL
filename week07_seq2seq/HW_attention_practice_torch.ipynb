{
 "cells": [
  {
   "cell_type": "markdown",
   "metadata": {},
   "source": [
    "## Reinforcement Learning for seq2seq\n",
    "\n",
    "This time we'll solve a problem of transсribing Hebrew words in English, also known as g2p (grapheme2phoneme)\n",
    "\n",
    " * word (sequence of letters in source language) -> translation (sequence of letters in target language)\n",
    "\n",
    "Unlike what most deep learning practitioners do, we won't only train it to maximize likelihood of correct translation, but also employ reinforcement learning to actually teach it to translate with as few errors as possible.\n",
    "\n",
    "\n",
    "### About the task\n",
    "\n",
    "One notable property of Hebrew is that it's a consonant language. That is, there are no vowels in the written language. One could represent vowels with diacritics above consonants, but you don't expect people to do that in everyday life.\n",
    "\n",
    "Therefore, some Hebrew characters will correspond to several English letters and others - to none, so we should use encoder-decoder architecture to figure that out.\n",
    "\n",
    "![img](https://esciencegroup.files.wordpress.com/2016/03/seq2seq.jpg)\n",
    "_(img: esciencegroup.files.wordpress.com)_\n",
    "\n",
    "Encoder-decoder architectures are about converting anything to anything, including\n",
    " * Machine translation and spoken dialogue systems\n",
    " * [Image captioning](https://cocodataset.org/#captions-2015) and [image2latex](https://htmlpreview.github.io/?https://github.com/openai/requests-for-research/blob/master/_requests_for_research/im2latex.html) (convolutional encoder, recurrent decoder)\n",
    " * Generating [images by captions](https://arxiv.org/abs/1511.02793) (recurrent encoder, convolutional decoder)\n",
    " * Grapheme2phoneme - convert words to transcripts\n",
    "\n",
    "We chose simplified __Hebrew->English__ machine translation for words and short phrases (character-level), as it is relatively quick to train even without a gpu cluster."
   ]
  },
  {
   "cell_type": "code",
   "execution_count": 1,
   "metadata": {
    "execution": {
     "iopub.execute_input": "2025-05-14T15:55:06.653282Z",
     "iopub.status.busy": "2025-05-14T15:55:06.652985Z",
     "iopub.status.idle": "2025-05-14T15:55:07.762757Z",
     "shell.execute_reply": "2025-05-14T15:55:07.761708Z",
     "shell.execute_reply.started": "2025-05-14T15:55:06.653260Z"
    },
    "trusted": true
   },
   "outputs": [],
   "source": [
    "import sys, os\n",
    "\n",
    "if 'google.colab' in sys.modules and not os.path.exists('.setup_complete'):\n",
    "    !wget https://raw.githubusercontent.com/sekopylov/Practical_RL/master/week07_seq2seq/voc.py -O voc.py\n",
    "    !wget https://raw.githubusercontent.com/sekopylov/Practical_RL/master/week07_seq2seq/improved_model.py -O improved_model.py\n",
    "    !wget https://raw.githubusercontent.com/sekopylov/Practical_RL/master/week07_seq2seq/main_dataset.txt -O main_dataset.txt"
   ]
  },
  {
   "cell_type": "code",
   "execution_count": 2,
   "metadata": {
    "execution": {
     "iopub.execute_input": "2025-05-14T15:55:07.765113Z",
     "iopub.status.busy": "2025-05-14T15:55:07.764783Z",
     "iopub.status.idle": "2025-05-14T15:55:07.769936Z",
     "shell.execute_reply": "2025-05-14T15:55:07.769159Z",
     "shell.execute_reply.started": "2025-05-14T15:55:07.765089Z"
    },
    "trusted": true
   },
   "outputs": [],
   "source": [
    "# If True, only translates phrases shorter than 20 characters (way easier).\n",
    "EASY_MODE = False\n",
    "# Useful for initial coding.\n",
    "# If false, works with all phrases (please switch to this mode for homework assignment)\n",
    "\n",
    "# way we translate. Either \"he-to-en\" or \"en-to-he\"\n",
    "MODE = \"he-to-en\"\n",
    "# maximal length of _generated_ output, does not affect training\n",
    "MAX_OUTPUT_LENGTH = 50 if not EASY_MODE else 20\n",
    "REPORT_FREQ = 100                          # how often to evaluate validation score"
   ]
  },
  {
   "cell_type": "markdown",
   "metadata": {},
   "source": [
    "### Step 1: preprocessing\n",
    "\n",
    "We shall store dataset as a dictionary\n",
    "`{ word1:[translation1,translation2,...], word2:[...],...}`.\n",
    "\n",
    "This is mostly due to the fact that many words have several correct translations.\n",
    "\n",
    "We have implemented this thing for you so that you can focus on more interesting parts."
   ]
  },
  {
   "cell_type": "code",
   "execution_count": 3,
   "metadata": {
    "execution": {
     "iopub.execute_input": "2025-05-14T15:55:07.771206Z",
     "iopub.status.busy": "2025-05-14T15:55:07.770949Z",
     "iopub.status.idle": "2025-05-14T15:55:08.513859Z",
     "shell.execute_reply": "2025-05-14T15:55:08.513031Z",
     "shell.execute_reply.started": "2025-05-14T15:55:07.771183Z"
    },
    "trusted": true
   },
   "outputs": [
    {
     "name": "stdout",
     "output_type": "stream",
     "text": [
      "size =  181802\n"
     ]
    }
   ],
   "source": [
    "import numpy as np\n",
    "from collections import defaultdict\n",
    "word_to_translation = defaultdict(list)  # our dictionary\n",
    "\n",
    "bos = '_'\n",
    "eos = ';'\n",
    "\n",
    "with open(\"main_dataset.txt\", encoding=\"utf-8\") as fin:\n",
    "    for line in fin:\n",
    "\n",
    "        en, he = line[:-1].lower().replace(bos, ' ').replace(eos,\n",
    "                                                             ' ').split('\\t')\n",
    "        word, trans = (he, en) if MODE == 'he-to-en' else (en, he)\n",
    "\n",
    "        if len(word) < 3:\n",
    "            continue\n",
    "        if EASY_MODE:\n",
    "            if max(len(word), len(trans)) > 20:\n",
    "                continue\n",
    "\n",
    "        word_to_translation[word].append(trans)\n",
    "\n",
    "print(\"size = \", len(word_to_translation))"
   ]
  },
  {
   "cell_type": "code",
   "execution_count": 4,
   "metadata": {
    "execution": {
     "iopub.execute_input": "2025-05-14T15:55:08.515093Z",
     "iopub.status.busy": "2025-05-14T15:55:08.514783Z",
     "iopub.status.idle": "2025-05-14T15:55:08.910974Z",
     "shell.execute_reply": "2025-05-14T15:55:08.910358Z",
     "shell.execute_reply.started": "2025-05-14T15:55:08.515066Z"
    },
    "trusted": true
   },
   "outputs": [],
   "source": [
    "# get all unique lines in source language\n",
    "all_words = np.array(list(word_to_translation.keys()))\n",
    "# get all unique lines in translation language\n",
    "all_translations = np.array(list(set(\n",
    "    [ts for all_ts in word_to_translation.values() for ts in all_ts])))"
   ]
  },
  {
   "cell_type": "code",
   "execution_count": 5,
   "metadata": {
    "execution": {
     "iopub.execute_input": "2025-05-14T15:55:08.913113Z",
     "iopub.status.busy": "2025-05-14T15:55:08.912863Z",
     "iopub.status.idle": "2025-05-14T15:55:09.199592Z",
     "shell.execute_reply": "2025-05-14T15:55:09.198643Z",
     "shell.execute_reply.started": "2025-05-14T15:55:08.913094Z"
    },
    "trusted": true
   },
   "outputs": [
    {
     "name": "stdout",
     "output_type": "stream",
     "text": [
      "משתמש:צלף/! סימן קריאה\n",
      "משתמש:צלף/! סימן קריאה\n",
      "משתמש:צלף/!\n",
      "סימן קריאה\n",
      "['משתמש:צלף/!' 'סימן קריאה' 'תבנית:!!' '$9.99']\n"
     ]
    }
   ],
   "source": [
    "print(all_words[0], all_words[1])\n",
    "print(list(all_words)[0], list(all_words)[1])\n",
    "print(all_words[0])\n",
    "print(all_words[1])\n",
    "print(all_words[:4])"
   ]
  },
  {
   "cell_type": "code",
   "execution_count": 6,
   "metadata": {
    "execution": {
     "iopub.execute_input": "2025-05-14T15:55:09.200896Z",
     "iopub.status.busy": "2025-05-14T15:55:09.200522Z",
     "iopub.status.idle": "2025-05-14T15:55:09.220201Z",
     "shell.execute_reply": "2025-05-14T15:55:09.219411Z",
     "shell.execute_reply.started": "2025-05-14T15:55:09.200867Z"
    },
    "trusted": true
   },
   "outputs": [
    {
     "name": "stdout",
     "output_type": "stream",
     "text": [
      "משתמש:צלף/!"
     ]
    }
   ],
   "source": [
    "for i in list(all_words[0]):\n",
    "    print(i, end=\"\")"
   ]
  },
  {
   "cell_type": "markdown",
   "metadata": {},
   "source": [
    "### split the dataset\n",
    "\n",
    "We hold out 10% of all words to be used for validation.\n"
   ]
  },
  {
   "cell_type": "code",
   "execution_count": 7,
   "metadata": {
    "execution": {
     "iopub.execute_input": "2025-05-14T15:55:09.221276Z",
     "iopub.status.busy": "2025-05-14T15:55:09.221051Z",
     "iopub.status.idle": "2025-05-14T15:55:09.967753Z",
     "shell.execute_reply": "2025-05-14T15:55:09.967123Z",
     "shell.execute_reply.started": "2025-05-14T15:55:09.221259Z"
    },
    "trusted": true
   },
   "outputs": [],
   "source": [
    "from sklearn.model_selection import train_test_split\n",
    "train_words, test_words = train_test_split(\n",
    "    all_words, test_size=0.1, random_state=42)"
   ]
  },
  {
   "cell_type": "markdown",
   "metadata": {},
   "source": [
    "### Building vocabularies\n",
    "\n",
    "We now need to build vocabularies that map strings to token ids and vice versa. We're gonna need these fellas when we feed training data into the model or convert output matrices into English words."
   ]
  },
  {
   "cell_type": "code",
   "execution_count": 8,
   "metadata": {
    "execution": {
     "iopub.execute_input": "2025-05-14T15:55:09.968903Z",
     "iopub.status.busy": "2025-05-14T15:55:09.968554Z",
     "iopub.status.idle": "2025-05-14T15:55:11.193933Z",
     "shell.execute_reply": "2025-05-14T15:55:11.193073Z",
     "shell.execute_reply.started": "2025-05-14T15:55:09.968886Z"
    },
    "trusted": true
   },
   "outputs": [],
   "source": [
    "from voc import Vocab\n",
    "inp_voc = Vocab.from_lines(''.join(all_words), bos=bos, eos=eos, sep='')\n",
    "out_voc = Vocab.from_lines(''.join(all_translations), bos=bos, eos=eos, sep='')"
   ]
  },
  {
   "cell_type": "code",
   "execution_count": 9,
   "metadata": {
    "execution": {
     "iopub.execute_input": "2025-05-14T15:55:11.195104Z",
     "iopub.status.busy": "2025-05-14T15:55:11.194863Z",
     "iopub.status.idle": "2025-05-14T15:55:11.199980Z",
     "shell.execute_reply": "2025-05-14T15:55:11.199137Z",
     "shell.execute_reply.started": "2025-05-14T15:55:11.195086Z"
    },
    "trusted": true
   },
   "outputs": [
    {
     "name": "stdout",
     "output_type": "stream",
     "text": [
      "\n"
     ]
    }
   ],
   "source": [
    "print()"
   ]
  },
  {
   "cell_type": "code",
   "execution_count": 10,
   "metadata": {
    "execution": {
     "iopub.execute_input": "2025-05-14T15:55:11.201178Z",
     "iopub.status.busy": "2025-05-14T15:55:11.200773Z",
     "iopub.status.idle": "2025-05-14T15:55:11.220288Z",
     "shell.execute_reply": "2025-05-14T15:55:11.219446Z",
     "shell.execute_reply.started": "2025-05-14T15:55:11.201158Z"
    },
    "trusted": true
   },
   "outputs": [
    {
     "name": "stdout",
     "output_type": "stream",
     "text": [
      "lines\n",
      "[\"תבנית:'\", '$9.99', 'תבנית:!!', 'סימן קריאה', 'משתמש:צלף/!']\n",
      "\n",
      "words to ids (0 = bos, 1 = eos):\n",
      "[[  0 134 145 146 134 145  28 142 132 139  17   4   1]\n",
      " [  0 137 129 134 135   3 143 144 129 120 124   1   2]\n",
      " [  0 146 121 136 129 146  28   4   4   1   2   2   2]\n",
      " [  0   7  27  16  27  27   1   2   2   2   2   2   2]\n",
      " [  0 146 121 136 129 146  28   9   1   2   2   2   2]]\n",
      "\n",
      "back to words\n",
      "['משתמש:צלף/!', 'סימן קריאה', 'תבנית:!!', '$9.99', \"תבנית:'\"]\n"
     ]
    }
   ],
   "source": [
    "# Here's how you cast lines into ids and backwards.\n",
    "batch_lines = all_words[:5]\n",
    "batch_ids = inp_voc.to_matrix(batch_lines)\n",
    "batch_lines_restored = inp_voc.to_lines(batch_ids)\n",
    "\n",
    "print(\"lines\")\n",
    "print(list(reversed(batch_lines)))  # print is broken\n",
    "print(\"\\nwords to ids (0 = bos, 1 = eos):\")\n",
    "print(batch_ids)\n",
    "print(\"\\nback to words\")\n",
    "print(batch_lines_restored)"
   ]
  },
  {
   "cell_type": "markdown",
   "metadata": {},
   "source": [
    "Draw word/translation length distributions to estimate the scope of the task."
   ]
  },
  {
   "cell_type": "code",
   "execution_count": 11,
   "metadata": {
    "execution": {
     "iopub.execute_input": "2025-05-14T15:55:11.221523Z",
     "iopub.status.busy": "2025-05-14T15:55:11.221175Z",
     "iopub.status.idle": "2025-05-14T15:55:12.731910Z",
     "shell.execute_reply": "2025-05-14T15:55:12.731048Z",
     "shell.execute_reply.started": "2025-05-14T15:55:11.221504Z"
    },
    "trusted": true
   },
   "outputs": [
    {
     "data": {
      "text/plain": [
       "(array([5.3848e+04, 8.2076e+04, 2.9641e+04, 1.0819e+04, 3.5700e+03,\n",
       "        1.0030e+03, 2.6700e+02, 1.1300e+02, 2.5000e+01, 6.0000e+00,\n",
       "        1.0000e+00, 3.0000e+00, 1.0000e+00, 0.0000e+00, 0.0000e+00,\n",
       "        0.0000e+00, 0.0000e+00, 0.0000e+00, 0.0000e+00, 1.0000e+00]),\n",
       " array([  1.  ,  10.05,  19.1 ,  28.15,  37.2 ,  46.25,  55.3 ,  64.35,\n",
       "         73.4 ,  82.45,  91.5 , 100.55, 109.6 , 118.65, 127.7 , 136.75,\n",
       "        145.8 , 154.85, 163.9 , 172.95, 182.  ]),\n",
       " <BarContainer object of 20 artists>)"
      ]
     },
     "execution_count": 11,
     "metadata": {},
     "output_type": "execute_result"
    },
    {
     "data": {
      "image/png": "[encoded data removed]",
      "text/plain": [
       "<Figure size 800x400 with 2 Axes>"
      ]
     },
     "metadata": {},
     "output_type": "display_data"
    }
   ],
   "source": [
    "import matplotlib.pyplot as plt\n",
    "%matplotlib inline\n",
    "plt.figure(figsize=[8, 4])\n",
    "plt.subplot(1, 2, 1)\n",
    "plt.title(\"words\")\n",
    "plt.hist(list(map(len, all_words)), bins=20)\n",
    "\n",
    "plt.subplot(1, 2, 2)\n",
    "plt.title('translations')\n",
    "plt.hist(list(map(len, all_translations)), bins=20)"
   ]
  },
  {
   "cell_type": "markdown",
   "metadata": {},
   "source": [
    "### Step 3: deploy encoder-decoder (1 point)\n",
    "\n",
    "__assignment starts here__\n",
    "\n",
    "Our architecture consists of two main blocks:\n",
    "* Encoder reads words character by character and outputs code vector (usually a function of last RNN state)\n",
    "* Decoder takes that code vector and produces translations character by character\n",
    "\n",
    "Then it gets fed into a model that follows this simple interface:\n",
    "* __`model(inp, out, **flags) -> logp`__ - takes symbolic int32 matrices of Hebrew words and their English translations. Computes the log-probabilities of all possible English characters given English prefixes and Hebrew word.\n",
    "* __`model.translate(inp, **flags) -> out, logp`__ - takes symbolic int32 matrix of Hebrew words, produces output tokens sampled from the model and output log-probabilities for all possible tokens at each tick.\n",
    "  * if given flag __`greedy=True`__, takes most likely next token at each iteration. Otherwise, samples with next token probabilities predicted by model.\n",
    "\n",
    "That's all! It's as hard as it gets. With those two methods alone, you can implement all kinds of prediction and training."
   ]
  },
  {
   "cell_type": "code",
   "execution_count": 12,
   "metadata": {
    "execution": {
     "iopub.execute_input": "2025-05-14T15:55:12.733081Z",
     "iopub.status.busy": "2025-05-14T15:55:12.732848Z",
     "iopub.status.idle": "2025-05-14T15:55:12.737787Z",
     "shell.execute_reply": "2025-05-14T15:55:12.736810Z",
     "shell.execute_reply.started": "2025-05-14T15:55:12.733064Z"
    },
    "trusted": true
   },
   "outputs": [],
   "source": [
    "import torch\n",
    "import torch.nn as nn\n",
    "import torch.nn.functional as F"
   ]
  },
  {
   "cell_type": "code",
   "execution_count": 13,
   "metadata": {
    "execution": {
     "iopub.execute_input": "2025-05-14T15:55:12.738767Z",
     "iopub.status.busy": "2025-05-14T15:55:12.738522Z",
     "iopub.status.idle": "2025-05-14T15:55:12.756166Z",
     "shell.execute_reply": "2025-05-14T15:55:12.755482Z",
     "shell.execute_reply.started": "2025-05-14T15:55:12.738742Z"
    },
    "trusted": true
   },
   "outputs": [
    {
     "data": {
      "text/plain": [
       "True"
      ]
     },
     "execution_count": 13,
     "metadata": {},
     "output_type": "execute_result"
    }
   ],
   "source": [
    "torch.cuda.is_available()"
   ]
  },
  {
   "cell_type": "code",
   "execution_count": 14,
   "metadata": {
    "execution": {
     "iopub.execute_input": "2025-05-14T15:55:12.759982Z",
     "iopub.status.busy": "2025-05-14T15:55:12.759469Z",
     "iopub.status.idle": "2025-05-14T15:55:12.771797Z",
     "shell.execute_reply": "2025-05-14T15:55:12.770987Z",
     "shell.execute_reply.started": "2025-05-14T15:55:12.759962Z"
    },
    "trusted": true
   },
   "outputs": [
    {
     "name": "stdout",
     "output_type": "stream",
     "text": [
      "cuda\n"
     ]
    }
   ],
   "source": [
    "device = torch.device(\"cuda\" if torch.cuda.is_available() else \"cpu\")\n",
    "print(device)"
   ]
  },
  {
   "cell_type": "code",
   "execution_count": 15,
   "metadata": {
    "execution": {
     "iopub.execute_input": "2025-05-14T16:10:51.769996Z",
     "iopub.status.busy": "2025-05-14T16:10:51.769699Z",
     "iopub.status.idle": "2025-05-14T16:10:51.775644Z",
     "shell.execute_reply": "2025-05-14T16:10:51.774572Z",
     "shell.execute_reply.started": "2025-05-14T16:10:51.769977Z"
    },
    "trusted": true
   },
   "outputs": [],
   "source": [
    "from attention_bi_gru_model import TranslationModel\n",
    "model = TranslationModel(inp_voc, out_voc,\n",
    "                              emb_size=64, hid_size=256).to(device)"
   ]
  },
  {
   "cell_type": "code",
   "execution_count": 16,
   "metadata": {},
   "outputs": [],
   "source": [
    "import torch"
   ]
  },
  {
   "cell_type": "code",
   "execution_count": 17,
   "metadata": {
    "execution": {
     "iopub.execute_input": "2025-05-14T15:59:36.039682Z",
     "iopub.status.busy": "2025-05-14T15:59:36.038928Z",
     "iopub.status.idle": "2025-05-14T15:59:36.659080Z",
     "shell.execute_reply": "2025-05-14T15:59:36.658237Z",
     "shell.execute_reply.started": "2025-05-14T15:59:36.039644Z"
    },
    "trusted": true
   },
   "outputs": [
    {
     "name": "stdout",
     "output_type": "stream",
     "text": [
      "Sample translations:\n",
      " tensor([[  0,  66, 215,  ..., 169, 173,   1],\n",
      "        [  0, 161, 135,  ..., 166, 268, 240],\n",
      "        [  0, 146, 167,  ...,  57,  59,  55]], device='cuda:0')\n",
      "Log-probabilities at each step:\n",
      " tensor([[[  0.0000, -69.0776, -69.0776,  ..., -69.0776, -69.0776, -69.0776],\n",
      "         [ -5.6212,  -5.8424,  -5.8682,  ...,  -5.8663,  -5.7247,  -5.9997],\n",
      "         [ -5.6985,  -5.8035,  -5.8309,  ...,  -5.8950,  -5.6788,  -5.8839],\n",
      "         ...,\n",
      "         [ -5.7316,  -5.9221,  -5.8641,  ...,  -5.8382,  -5.6796,  -5.7776],\n",
      "         [ -5.8482,  -5.8844,  -5.8715,  ...,  -5.8759,  -5.6095,  -5.7704],\n",
      "         [ -5.8813,  -5.8916,  -5.8500,  ...,  -5.7809,  -5.5345,  -5.7290]],\n",
      "\n",
      "        [[  0.0000, -69.0776, -69.0776,  ..., -69.0776, -69.0776, -69.0776],\n",
      "         [ -5.5998,  -5.8127,  -5.8560,  ...,  -5.8632,  -5.7281,  -6.0294],\n",
      "         [ -5.7580,  -5.9055,  -5.8159,  ...,  -5.8316,  -5.5632,  -5.8383],\n",
      "         ...,\n",
      "         [ -5.8026,  -5.9402,  -5.7865,  ...,  -5.8111,  -5.6218,  -5.8614],\n",
      "         [ -5.7195,  -6.0674,  -5.7105,  ...,  -5.8828,  -5.5640,  -5.7791],\n",
      "         [ -5.6890,  -5.7918,  -5.7990,  ...,  -5.8942,  -5.7309,  -5.7996]],\n",
      "\n",
      "        [[  0.0000, -69.0776, -69.0776,  ..., -69.0776, -69.0776, -69.0776],\n",
      "         [ -5.5809,  -5.8225,  -5.8364,  ...,  -5.8597,  -5.7500,  -6.0305],\n",
      "         [ -5.6477,  -6.1266,  -5.8937,  ...,  -5.8017,  -5.6601,  -5.9789],\n",
      "         ...,\n",
      "         [ -5.6494,  -5.9688,  -5.9072,  ...,  -5.9181,  -5.9067,  -5.7891],\n",
      "         [ -5.7877,  -5.9227,  -5.8925,  ...,  -6.0289,  -5.8477,  -5.7440],\n",
      "         [ -5.8421,  -5.9368,  -5.8125,  ...,  -5.9720,  -5.7538,  -5.9097]]],\n",
      "       device='cuda:0', grad_fn=<LogSoftmaxBackward0>)\n",
      "torch.Size([3, 680, 326])\n"
     ]
    }
   ],
   "source": [
    "# Play around with symbolic_translate and symbolic_score\n",
    "inp = torch.tensor(np.random.randint(0, 10, [3, 5]), dtype=torch.int64).to(device)\n",
    "out = torch.tensor(np.random.randint(0, 10, [3, 5]), dtype=torch.int64).to(device)\n",
    "\n",
    "# translate inp (with untrained model)\n",
    "\n",
    "sampled_out, logp = model.translate(inp, greedy=False)\n",
    "\n",
    "print(\"Sample translations:\\n\", sampled_out)\n",
    "print(\"Log-probabilities at each step:\\n\", logp)\n",
    "print(logp.shape)"
   ]
  },
  {
   "cell_type": "code",
   "execution_count": 18,
   "metadata": {
    "execution": {
     "iopub.execute_input": "2025-05-14T15:56:27.393070Z",
     "iopub.status.busy": "2025-05-14T15:56:27.392185Z",
     "iopub.status.idle": "2025-05-14T15:56:27.397306Z",
     "shell.execute_reply": "2025-05-14T15:56:27.396430Z",
     "shell.execute_reply.started": "2025-05-14T15:56:27.393046Z"
    },
    "trusted": true
   },
   "outputs": [
    {
     "name": "stdout",
     "output_type": "stream",
     "text": [
      "['_', ';', '__PAD__', ' ', '!', '\"', '$', '%', '&', \"'\", '(', ')', '*', '+', ',', '-', '.', '/', '0', '1', '2', '3', '4', '5', '6', '7', '8', '9', ':', '=', '?', '@', '^', '`', 'a', 'b', 'c', 'd', 'e', 'f', 'g', 'h', 'i', 'j', 'k', 'l', 'm', 'n', 'o', 'p', 'q', 'r', 's', 't', 'u', 'v', 'w', 'x', 'y', 'z', '~', '¡', '°', '²', 'µ', '·', '½', '×', 'ß', 'à', 'á', 'â', 'ã', 'ä', 'å', 'æ', 'ç', 'è', 'é', 'ê', 'ë', 'ì', 'í', 'î', 'ï', 'ð', 'ñ', 'ò', 'ó', 'ô', 'õ', 'ö', 'ø', 'ù', 'ú', 'û', 'ü', 'ý', 'þ', 'ÿ', 'ā', 'ă', 'ą', 'ć', 'č', 'ď', 'đ', 'ē', 'ė', 'ę', 'ě', 'ğ', 'ģ', 'ħ', 'ī', 'ı', 'ķ', 'ļ', 'ľ', 'ł', 'ń', 'ņ', 'ň', 'ŋ', 'ō', 'ŏ', 'ő', 'œ', 'ř', 'ś', 'ş', 'š', 'ţ', 'ť', 'ū', 'ŭ', 'ů', 'ű', 'ų', 'ź', 'ż', 'ž', 'ơ', 'ư', 'ș', 'ț', 'ə', 'ɱ', 'ʻ', 'ʾ', 'ʿ', '̇', 'ή', 'δ', 'ε', 'ζ', 'η', 'μ', 'ν', 'ο', 'π', 'ρ', 'σ', 'τ', 'υ', 'а', 'б', 'в', 'г', 'д', 'е', 'и', 'к', 'л', 'м', 'н', 'о', 'п', 'р', 'т', 'у', 'ф', 'х', 'ц', 'ш', 'ъ', 'ы', 'ь', 'ю', 'я', 'ա', 'զ', 'կ', 'ղ', 'վ', 'ր', 'א', 'ב', 'ג', 'ד', 'ה', 'ו', 'ז', 'ח', 'ט', 'י', 'כ', 'ל', 'ם', 'מ', 'ן', 'נ', 'ס', 'ע', 'ף', 'פ', 'צ', 'ק', 'ר', 'ש', 'ת', 'ا', 'ت', 'ر', 'س', 'ص', 'ع', 'ف', 'ق', 'ل', 'م', 'و', 'ک', 'ی', 'ক', 'ড', 'দ', 'ন', 'প', 'য', 'স', '়', 'া', 'ি', 'ৱ', 'ං', 'අ', 'ක', 'ග', 'ත', 'න', 'ය', 'ළ', 'ා', 'ැ', 'ි', 'ෙ', 'ណ', 'ថ', 'ទ', 'ធ', 'រ', 'វ', 'ា', 'ិ', '័', '្', 'ḥ', 'ḳ', 'ṃ', 'ṇ', 'ṭ', 'ẓ', 'ạ', 'ả', 'ấ', 'ẻ', 'ế', 'ễ', 'ọ', 'ỏ', 'ồ', 'ộ', 'ớ', 'ứ', 'ỹ', '–', '—', '‘', '’', '•', '…', '′', '″', '⅓', '→', '≤', '⋯', '♭', 'あ', 'い', 'っ', 'と', 'ぺ', 'ぼ', 'ら', 'る', 'コ', 'タ', 'チ', 'マ', '一', '仙', '子', '守', '御', '星', '桜', '榎', '熊', '猫', '白', '老', '野', '門', '陳'] "
     ]
    }
   ],
   "source": [
    "print(out_voc.tokens, end=\" \")"
   ]
  },
  {
   "cell_type": "code",
   "execution_count": 19,
   "metadata": {
    "execution": {
     "iopub.execute_input": "2025-05-14T15:56:28.073067Z",
     "iopub.status.busy": "2025-05-14T15:56:28.072477Z",
     "iopub.status.idle": "2025-05-14T15:56:28.123385Z",
     "shell.execute_reply": "2025-05-14T15:56:28.122435Z",
     "shell.execute_reply.started": "2025-05-14T15:56:28.073038Z"
    },
    "trusted": true
   },
   "outputs": [
    {
     "name": "stdout",
     "output_type": "stream",
     "text": [
      "Symbolic_score output:\n",
      " tensor([[[  0.0000, -69.0776, -69.0776,  ..., -69.0776, -69.0776, -69.0776],\n",
      "         [ -5.7785,  -5.8710,  -5.8314,  ...,  -5.8989,  -5.8179,  -5.8215],\n",
      "         [ -5.7504,  -5.9025,  -5.8711,  ...,  -5.6792,  -5.9421,  -5.8210],\n",
      "         [ -5.7471,  -5.8862,  -5.8427,  ...,  -5.7256,  -5.8598,  -5.7957],\n",
      "         [ -5.7407,  -5.8730,  -5.8335,  ...,  -5.7582,  -5.8062,  -5.7896]],\n",
      "\n",
      "        [[  0.0000, -69.0776, -69.0776,  ..., -69.0776, -69.0776, -69.0776],\n",
      "         [ -5.7925,  -5.8612,  -5.8490,  ...,  -5.9553,  -5.9319,  -5.7293],\n",
      "         [ -5.7583,  -5.8932,  -5.8984,  ...,  -5.7338,  -5.9742,  -5.7625],\n",
      "         [ -5.8384,  -5.9371,  -5.7702,  ...,  -5.6905,  -5.8896,  -5.7861],\n",
      "         [ -5.7839,  -5.8951,  -5.8018,  ...,  -5.7552,  -5.8110,  -5.7949]],\n",
      "\n",
      "        [[  0.0000, -69.0776, -69.0776,  ..., -69.0776, -69.0776, -69.0776],\n",
      "         [ -5.8887,  -5.8436,  -5.8804,  ...,  -5.7874,  -5.5556,  -5.7899],\n",
      "         [ -5.8024,  -5.8236,  -5.8328,  ...,  -5.8296,  -5.6552,  -5.7648],\n",
      "         [ -5.8514,  -5.8803,  -5.7491,  ...,  -5.7435,  -5.7302,  -5.7953],\n",
      "         [ -5.6495,  -5.9598,  -5.7429,  ...,  -5.7118,  -5.8461,  -5.8637]]],\n",
      "       device='cuda:0', grad_fn=<LogSoftmaxBackward0>)\n",
      "Log-probabilities of output tokens:\n",
      " tensor([[[-69.0776],\n",
      "         [ -5.7989],\n",
      "         [ -5.8711],\n",
      "         [ -5.8427],\n",
      "         [ -5.8335]],\n",
      "\n",
      "        [[-69.0776],\n",
      "         [ -5.8081],\n",
      "         [ -5.8932],\n",
      "         [ -5.7702],\n",
      "         [ -5.6661]],\n",
      "\n",
      "        [[-69.0776],\n",
      "         [ -5.7608],\n",
      "         [ -5.8236],\n",
      "         [ -5.8731],\n",
      "         [ -5.6495]]], device='cuda:0', grad_fn=<GatherBackward0>)\n"
     ]
    }
   ],
   "source": [
    "# score logp(out | inp) with untrained input\n",
    "logp = model(inp, out)\n",
    "print(\"Symbolic_score output:\\n\", logp)\n",
    "\n",
    "print(\"Log-probabilities of output tokens:\\n\",\n",
    "      torch.gather(logp, dim=2, index=out[:, :, None]))"
   ]
  },
  {
   "cell_type": "code",
   "execution_count": 20,
   "metadata": {
    "execution": {
     "iopub.status.busy": "2025-05-14T15:55:13.305228Z",
     "iopub.status.idle": "2025-05-14T15:55:13.305515Z",
     "shell.execute_reply": "2025-05-14T15:55:13.305394Z",
     "shell.execute_reply.started": "2025-05-14T15:55:13.305377Z"
    },
    "trusted": true
   },
   "outputs": [],
   "source": [
    "def translate(lines, max_len=MAX_OUTPUT_LENGTH):\n",
    "    \"\"\"\n",
    "    You are given a list of input lines.\n",
    "    Make your neural network translate them.\n",
    "    :return: a list of output lines\n",
    "    \"\"\"\n",
    "    # Convert lines to a matrix of indices\n",
    "    lines_ix = inp_voc.to_matrix(lines)\n",
    "    lines_ix = torch.tensor(lines_ix, dtype=torch.int64)\n",
    "\n",
    "    # Compute translations in form of indices\n",
    "    # Translate gives as sentence (in matrix) and scores\n",
    "    trans_ix = model.translate(lines_ix, greedy=True, max_len=max_len)[0]\n",
    "\n",
    "    # Convert translations back into strings\n",
    "    return out_voc.to_lines(trans_ix.detach().cpu().numpy())"
   ]
  },
  {
   "cell_type": "code",
   "execution_count": 21,
   "metadata": {
    "execution": {
     "iopub.status.busy": "2025-05-14T15:55:13.306614Z",
     "iopub.status.idle": "2025-05-14T15:55:13.306868Z",
     "shell.execute_reply": "2025-05-14T15:55:13.306760Z",
     "shell.execute_reply.started": "2025-05-14T15:55:13.306746Z"
    },
    "trusted": true
   },
   "outputs": [
    {
     "name": "stdout",
     "output_type": "stream",
     "text": [
      "Sample inputs: ['משתמש:צלף/!' 'סימן קריאה' 'תבנית:!!']\n",
      "Dummy translations: [')ិãı×$ųzוèצzוèצzוèצzוèצzוèצzוèצzוèצzוèצzוèצzוèצzו', '))ិãı×و)ľıớං門uʿą′’ūdצদদếøʿą′’ūdצদদếøʿą′’ūdצদদếøʿą', ')ិãı×و*ת老مג⋯⋯œתł老âʿhhкhкវវhhкhкវវhhкhкវវhhкhкវវhh']\n",
      "Tests passed!\n"
     ]
    }
   ],
   "source": [
    "print(\"Sample inputs:\", all_words[:3])\n",
    "print(\"Dummy translations:\", translate(all_words[:3]))\n",
    "trans = translate(all_words[:3])\n",
    "\n",
    "assert translate(all_words[:3]) == translate(\n",
    "    all_words[:3]), \"make sure translation is deterministic (use greedy=True and disable any noise layers)\"\n",
    "assert type(translate(all_words[:3])) is list and (type(translate(all_words[:1])[0]) is str or type(\n",
    "    translate(all_words[:1])[0]) is unicode), \"translate(lines) must return a sequence of strings!\"\n",
    "# note: if translation freezes, make sure you used max_len parameter\n",
    "print(\"Tests passed!\")"
   ]
  },
  {
   "cell_type": "markdown",
   "metadata": {},
   "source": [
    "### Scoring function\n",
    "\n",
    "LogLikelihood is a poor estimator of model performance.\n",
    "* If we predict zero probability once, it shouldn't ruin the entire model.\n",
    "* It is enough to learn just one translation if there are several correct ones.\n",
    "* What matters is how many mistakes model's gonna make when it translates!\n",
    "\n",
    "Therefore, we will use minimal Levenshtein distance. It measures how many characters do we need to add/remove/replace from model translation to make it perfect. Alternatively, one could use character-level BLEU/RougeL or other similar metrics.\n",
    "\n",
    "The catch here is that Levenshtein distance is not differentiable: it isn't even continuous. We can't train our neural network to maximize it by gradient descent."
   ]
  },
  {
   "cell_type": "code",
   "execution_count": 22,
   "metadata": {
    "execution": {
     "iopub.status.busy": "2025-05-14T15:55:13.307934Z",
     "iopub.status.idle": "2025-05-14T15:55:13.308210Z",
     "shell.execute_reply": "2025-05-14T15:55:13.308092Z",
     "shell.execute_reply.started": "2025-05-14T15:55:13.308079Z"
    },
    "trusted": true
   },
   "outputs": [],
   "source": [
    "import editdistance  # !pip install editdistance\n",
    "\n",
    "\n",
    "def get_distance(word, trans):\n",
    "    \"\"\"\n",
    "    A function that takes word and predicted translation\n",
    "    and evaluates (Levenshtein's) edit distance to closest correct translation\n",
    "    \"\"\"\n",
    "    references = word_to_translation[word]\n",
    "    assert len(references) != 0, \"wrong/unknown word\"\n",
    "    return min(editdistance.eval(trans, ref) for ref in references)\n",
    "\n",
    "\n",
    "def score(words, bsize=100):\n",
    "    \"\"\"a function that computes levenshtein distance for bsize random samples\"\"\"\n",
    "    assert isinstance(words, np.ndarray)\n",
    "\n",
    "    batch_words = np.random.choice(words, size=bsize, replace=False)\n",
    "    batch_trans = translate(batch_words)\n",
    "\n",
    "    distances = list(map(get_distance, batch_words, batch_trans))\n",
    "\n",
    "    return np.array(distances, dtype='float32')"
   ]
  },
  {
   "cell_type": "code",
   "execution_count": 23,
   "metadata": {
    "execution": {
     "iopub.status.busy": "2025-05-14T15:55:13.310004Z",
     "iopub.status.idle": "2025-05-14T15:55:13.310249Z",
     "shell.execute_reply": "2025-05-14T15:55:13.310149Z",
     "shell.execute_reply.started": "2025-05-14T15:55:13.310138Z"
    },
    "trusted": true
   },
   "outputs": [
    {
     "data": {
      "text/plain": [
       "[48.0, 48.6, 48.5, 48.2, 48.0]"
      ]
     },
     "execution_count": 23,
     "metadata": {},
     "output_type": "execute_result"
    }
   ],
   "source": [
    "# should be around 5-50 and decrease rapidly after training :)\n",
    "[score(test_words, 10).mean() for _ in range(5)]"
   ]
  },
  {
   "cell_type": "markdown",
   "metadata": {},
   "source": [
    "## Step 2: Supervised pre-training (2 points)\n",
    "\n",
    "Here we define a function that trains our model through maximizing log-likelihood a.k.a. minimizing crossentropy."
   ]
  },
  {
   "cell_type": "markdown",
   "metadata": {},
   "source": [
    "My model will have this architecture:\n",
    "\n",
    "```\n",
    "encoder---decoder\n",
    "\n",
    "           P(y|h)\n",
    "             ^\n",
    " GRU   ->   GRU\n",
    "  ^          ^\n",
    "biGRU  ->   GRU\n",
    "  ^          ^\n",
    "input       y_prev\n",
    "```\n"
   ]
  },
  {
   "cell_type": "code",
   "execution_count": 24,
   "metadata": {
    "execution": {
     "iopub.status.busy": "2025-05-14T15:55:13.311436Z",
     "iopub.status.idle": "2025-05-14T15:55:13.311688Z",
     "shell.execute_reply": "2025-05-14T15:55:13.311594Z",
     "shell.execute_reply.started": "2025-05-14T15:55:13.311584Z"
    },
    "trusted": true
   },
   "outputs": [],
   "source": [
    "import random\n",
    "\n",
    "\n",
    "def sample_batch(words, word_to_translation, batch_size):\n",
    "    \"\"\"\n",
    "    sample random batch of words and random correct translation for each word\n",
    "    example usage:\n",
    "    batch_x,batch_y = sample_batch(train_words, word_to_translations,10)\n",
    "    \"\"\"\n",
    "    # choose words\n",
    "    batch_words = np.random.choice(words, size=batch_size)\n",
    "\n",
    "    # choose translations\n",
    "    batch_trans_candidates = list(map(word_to_translation.get, batch_words))\n",
    "    batch_trans = list(map(random.choice, batch_trans_candidates))\n",
    "    return batch_words, batch_trans"
   ]
  },
  {
   "cell_type": "code",
   "execution_count": 25,
   "metadata": {
    "execution": {
     "iopub.status.busy": "2025-05-14T15:55:13.312972Z",
     "iopub.status.idle": "2025-05-14T15:55:13.313303Z",
     "shell.execute_reply": "2025-05-14T15:55:13.313152Z",
     "shell.execute_reply.started": "2025-05-14T15:55:13.313138Z"
    },
    "trusted": true
   },
   "outputs": [
    {
     "name": "stdout",
     "output_type": "stream",
     "text": [
      "Source:\n",
      "['פרס ביטחון ישראל' 'מעבר רוטאנג' '251']\n",
      "Target:\n",
      "['israel defense prize', 'rohtang pass', '251']\n"
     ]
    }
   ],
   "source": [
    "bx, by = sample_batch(train_words, word_to_translation, batch_size=3)\n",
    "print(\"Source:\")\n",
    "print(bx)\n",
    "print(\"Target:\")\n",
    "print(by)"
   ]
  },
  {
   "cell_type": "code",
   "execution_count": 26,
   "metadata": {
    "execution": {
     "iopub.status.busy": "2025-05-14T15:55:13.314603Z",
     "iopub.status.idle": "2025-05-14T15:55:13.314867Z",
     "shell.execute_reply": "2025-05-14T15:55:13.314750Z",
     "shell.execute_reply.started": "2025-05-14T15:55:13.314737Z"
    },
    "trusted": true
   },
   "outputs": [],
   "source": [
    "from attention_bi_gru_model import infer_length, infer_mask, to_one_hot\n",
    "\n",
    "\n",
    "def compute_loss_on_batch(input_sequence, reference_answers):\n",
    "    \"\"\" Compute crossentropy loss given a batch of sources and translations \"\"\"\n",
    "    input_sequence = torch.tensor(inp_voc.to_matrix(input_sequence), dtype=torch.int64).to(device)\n",
    "    reference_answers = torch.tensor(out_voc.to_matrix(reference_answers), dtype=torch.int64).to(device)\n",
    "\n",
    "    # Compute log-probabilities of all possible tokens at each step. Use model interface.\n",
    "    logprobs_seq = model(input_sequence, reference_answers)\n",
    "\n",
    "    # compute elementwise crossentropy as negative log-probabilities of reference_answers.\n",
    "    crossentropy = - \\\n",
    "        torch.sum(logprobs_seq *\n",
    "                  to_one_hot(reference_answers, len(out_voc)), dim=-1)\n",
    "    assert crossentropy.dim(\n",
    "    ) == 2, \"please return elementwise crossentropy, don't compute mean just yet\"\n",
    "\n",
    "    # average with mask\n",
    "    mask = infer_mask(reference_answers, out_voc.eos_ix)\n",
    "    loss = torch.sum(crossentropy * mask) / torch.sum(mask)\n",
    "\n",
    "    return loss"
   ]
  },
  {
   "cell_type": "code",
   "execution_count": 27,
   "metadata": {
    "execution": {
     "iopub.status.busy": "2025-05-14T15:55:13.316156Z",
     "iopub.status.idle": "2025-05-14T15:55:13.316499Z",
     "shell.execute_reply": "2025-05-14T15:55:13.316345Z",
     "shell.execute_reply.started": "2025-05-14T15:55:13.316333Z"
    },
    "trusted": true
   },
   "outputs": [
    {
     "name": "stdout",
     "output_type": "stream",
     "text": [
      "loss =  tensor(5.5496, device='cuda:0', grad_fn=<DivBackward0>)\n"
     ]
    }
   ],
   "source": [
    "# test it\n",
    "loss = compute_loss_on_batch(*sample_batch(train_words, word_to_translation, 3))\n",
    "print('loss = ', loss)\n",
    "\n",
    "assert loss.item() > 0.0\n",
    "loss.backward()\n",
    "for w in model.parameters():\n",
    "    assert w.grad is not None and torch.max(torch.abs(w.grad)).item() != 0, \\\n",
    "        \"Loss is not differentiable w.r.t. a weight with shape %s. Check comput_loss_on_batch.\" % (\n",
    "            w.size(),)"
   ]
  },
  {
   "cell_type": "markdown",
   "metadata": {},
   "source": [
    "##### Actually train the model\n",
    "\n",
    "Minibatches and stuff..."
   ]
  },
  {
   "cell_type": "code",
   "execution_count": 28,
   "metadata": {
    "execution": {
     "iopub.status.busy": "2025-05-14T15:55:13.317728Z",
     "iopub.status.idle": "2025-05-14T15:55:13.318076Z",
     "shell.execute_reply": "2025-05-14T15:55:13.317943Z",
     "shell.execute_reply.started": "2025-05-14T15:55:13.317919Z"
    },
    "trusted": true
   },
   "outputs": [
    {
     "name": "stdout",
     "output_type": "stream",
     "text": [
      "tensor([[  1.,   2., 123.],\n",
      "        [  2.,   3.,  98.]])\n"
     ]
    }
   ],
   "source": [
    "a = torch.Tensor([[1, 2], [2, 3]])\n",
    "b = torch.Tensor([[123], [98]])\n",
    "print(torch.cat((a, b), dim=-1))"
   ]
  },
  {
   "cell_type": "code",
   "execution_count": 29,
   "metadata": {
    "execution": {
     "iopub.status.busy": "2025-05-14T15:55:13.319211Z",
     "iopub.status.idle": "2025-05-14T15:55:13.319579Z",
     "shell.execute_reply": "2025-05-14T15:55:13.319418Z",
     "shell.execute_reply.started": "2025-05-14T15:55:13.319402Z"
    },
    "trusted": true
   },
   "outputs": [],
   "source": [
    "from IPython.display import clear_output\n",
    "from tqdm import tqdm, trange  # or use tqdm_notebook,tnrange\n",
    "\n",
    "loss_history = []\n",
    "editdist_history = []\n",
    "entropy_history = []\n",
    "opt = torch.optim.Adam(model.parameters())"
   ]
  },
  {
   "cell_type": "code",
   "execution_count": 30,
   "metadata": {
    "execution": {
     "iopub.status.busy": "2025-05-14T15:55:13.321163Z",
     "iopub.status.idle": "2025-05-14T15:55:13.321412Z",
     "shell.execute_reply": "2025-05-14T15:55:13.321287Z",
     "shell.execute_reply.started": "2025-05-14T15:55:13.321278Z"
    },
    "trusted": true
   },
   "outputs": [
    {
     "name": "stdout",
     "output_type": "stream",
     "text": [
      "llh=0.785, mean score=8.005\n"
     ]
    },
    {
     "data": {
      "image/png": "[encoded data removed]",
      "text/plain": [
       "<Figure size 1200x400 with 3 Axes>"
      ]
     },
     "metadata": {},
     "output_type": "display_data"
    },
    {
     "name": "stderr",
     "output_type": "stream",
     "text": [
      "100%|██████████| 15000/15000 [12:02<00:00, 20.77it/s]\n"
     ]
    }
   ],
   "source": [
    "steps = 15000  # 25000\n",
    "load_frequency = 1000\n",
    "\n",
    "for i in trange(steps):\n",
    "    loss = compute_loss_on_batch(*sample_batch(train_words, word_to_translation, 32))\n",
    "\n",
    "    # train with backprop\n",
    "    loss.backward()\n",
    "    opt.step()\n",
    "    opt.zero_grad()\n",
    "\n",
    "    loss_history.append(loss.item())\n",
    "\n",
    "    if (i + 1) % load_frequency == 0:\n",
    "        torch.save(model.state_dict(), \"last_state_dict.pt\")\n",
    "    \n",
    "    if (i+1) % REPORT_FREQ == 0:\n",
    "        clear_output(True)\n",
    "        current_scores = score(test_words)\n",
    "        editdist_history.append(current_scores.mean())\n",
    "        print(\"llh=%.3f, mean score=%.3f\" %\n",
    "              (np.mean(loss_history[-10:]), np.mean(editdist_history[-10:])))\n",
    "        plt.figure(figsize=(12, 4))\n",
    "        plt.subplot(131)\n",
    "        plt.title('train loss / traning time')\n",
    "        plt.plot(loss_history)\n",
    "        plt.grid()\n",
    "        plt.subplot(132)\n",
    "        plt.title('val score distribution')\n",
    "        plt.hist(current_scores, bins=20)\n",
    "        plt.subplot(133)\n",
    "        plt.title('val score / traning time (lower is better)')\n",
    "        plt.plot(editdist_history)\n",
    "        plt.grid()\n",
    "        plt.show()"
   ]
  },
  {
   "cell_type": "code",
   "execution_count": null,
   "metadata": {
    "trusted": true
   },
   "outputs": [],
   "source": []
  },
  {
   "cell_type": "markdown",
   "metadata": {},
   "source": [
    "__How to interpret the plots:__\n",
    "\n",
    "* __Train loss__ - that's your model's crossentropy over minibatches. It should go down steadily. Most importantly, it shouldn't be NaN :)\n",
    "* __Val score distribution__ - distribution of translation edit distance (score) within batch. It should move to the left over time.\n",
    "* __Val score / training time__ - it's your current mean edit distance. This plot is much whimsier than loss, but make sure it goes below 8 by 2500 steps.\n",
    "\n",
    "If it doesn't, first try to re-create both model and opt. You may have changed its weight too much while debugging. If that doesn't help, it's debugging time."
   ]
  },
  {
   "cell_type": "code",
   "execution_count": 31,
   "metadata": {
    "execution": {
     "iopub.status.busy": "2025-05-14T15:55:13.322232Z",
     "iopub.status.idle": "2025-05-14T15:55:13.322555Z",
     "shell.execute_reply": "2025-05-14T15:55:13.322406Z",
     "shell.execute_reply.started": "2025-05-14T15:55:13.322391Z"
    },
    "trusted": true
   },
   "outputs": [
    {
     "name": "stdout",
     "output_type": "stream",
     "text": [
      "מצרי טיראן -> tiran country\n",
      "פתילת המדבר הגדולה -> great pathelat\n",
      "כפניים -> place\n",
      "תומאס בראש -> thomas brash\n",
      "ברוקטרים -> broccatrim\n",
      "קשר בוהן -> bohn caser\n",
      "מדד ביג מק -> mict midad\n",
      "הנדלר -> hendler\n",
      "אן רייס -> ann rais\n",
      "קטגוריה:תוכנות שהושקו ב-1978 -> 1978 software\n"
     ]
    }
   ],
   "source": [
    "for word in train_words[:10]:\n",
    "    print(\"%s -> %s\" % (word, translate([word])[0]))"
   ]
  },
  {
   "cell_type": "code",
   "execution_count": null,
   "metadata": {},
   "outputs": [
    {
     "name": "stderr",
     "output_type": "stream",
     "text": [
      "100%|██████████| 569/569 [00:09<00:00, 57.47it/s]"
     ]
    },
    {
     "name": "stdout",
     "output_type": "stream",
     "text": [
      "Supervised test score: 7.804136186128376\n"
     ]
    },
    {
     "name": "stderr",
     "output_type": "stream",
     "text": [
      "\n"
     ]
    }
   ],
   "source": [
    "test_scores = []\n",
    "for start_i in trange(0, len(test_words), 32):\n",
    "    batch_words = test_words[start_i:start_i+32]\n",
    "    batch_trans = translate(batch_words)\n",
    "    distances = list(map(get_distance, batch_words, batch_trans))\n",
    "    test_scores.extend(distances)\n",
    "\n",
    "print(\"Supervised test score:\", np.mean(test_scores))"
   ]
  },
  {
   "cell_type": "markdown",
   "metadata": {},
   "source": [
    "## Self-critical policy gradient (2 points)\n",
    "\n",
    "In this section you'll implement algorithm called self-critical sequence training (here's an [article](https://arxiv.org/abs/1612.00563)).\n",
    "\n",
    "The algorithm is a vanilla policy gradient with a special baseline.\n",
    "\n",
    "$$ \\nabla J = E_{x \\sim p(s)} E_{y \\sim \\pi(y|x)} \\nabla log \\pi(y|x) \\cdot (R(x,y) - b(x)) $$\n",
    "\n",
    "Here reward R(x,y) is a __negative levenshtein distance__ (since we minimize it). The baseline __b(x)__ represents how well model fares on word __x__.\n",
    "\n",
    "In practice, this means that we compute baseline as a score of greedy translation, $b(x) = R(x,y_{greedy}(x)) $.\n",
    "\n",
    "![img](https://github.com/yandexdataschool/Practical_RL/raw/master/yet_another_week/_resource/scheme.png)\n",
    "\n",
    "\n",
    "Luckily, we already obtained the required outputs: `model.greedy_translations, model.greedy_mask` and we only need to compute levenshtein using `compute_levenshtein` function.\n"
   ]
  },
  {
   "cell_type": "code",
   "execution_count": 33,
   "metadata": {
    "execution": {
     "iopub.status.busy": "2025-05-14T15:55:13.325306Z",
     "iopub.status.idle": "2025-05-14T15:55:13.325665Z",
     "shell.execute_reply": "2025-05-14T15:55:13.325507Z",
     "shell.execute_reply.started": "2025-05-14T15:55:13.325491Z"
    },
    "trusted": true
   },
   "outputs": [],
   "source": [
    "def compute_reward(input_sequence, translations):\n",
    "    \"\"\" computes sample-wise reward given token ids for inputs and translations \"\"\"\n",
    "    distances = list(map(get_distance,\n",
    "                         inp_voc.to_lines(input_sequence.detach().cpu().numpy()),\n",
    "                         out_voc.to_lines(translations.detach().cpu().numpy())))\n",
    "    # use negative levenshtein distance so that larger reward means better policy\n",
    "    return - torch.tensor(distances, dtype=torch.int64, device=device)  # 1-D tensor"
   ]
  },
  {
   "cell_type": "code",
   "execution_count": 34,
   "metadata": {
    "execution": {
     "iopub.status.busy": "2025-05-14T15:55:13.326940Z",
     "iopub.status.idle": "2025-05-14T15:55:13.327164Z",
     "shell.execute_reply": "2025-05-14T15:55:13.327069Z",
     "shell.execute_reply.started": "2025-05-14T15:55:13.327060Z"
    },
    "trusted": true
   },
   "outputs": [],
   "source": [
    "def scst_objective_on_batch(input_sequence, max_len=MAX_OUTPUT_LENGTH):\n",
    "    \"\"\" Compute pseudo-loss for policy gradient given a batch of sources \"\"\"\n",
    "    input_sequence = torch.tensor(inp_voc.to_matrix(input_sequence), dtype=torch.int64)\n",
    "    # use model to __sample__ symbolic translations given input_sequence\n",
    "    sample_translations, sample_logp = model.translate(input_sequence, greedy=False, max_len=100)\n",
    "    # use model to __greedy__ symbolic translations given input_sequence\n",
    "    greedy_translations, greedy_logp = model.translate(input_sequence, greedy=True, max_len=100)\n",
    "\n",
    "    # sample_translations.shape = [B, T]\n",
    "    # sample_logp.shape = [B, T, V]\n",
    "    \n",
    "    # compute rewards and advantage\n",
    "    rewards = compute_reward(input_sequence, sample_translations)\n",
    "    baseline = compute_reward(input_sequence, greedy_translations)  \n",
    "\n",
    "    # compute advantage using rewards and baseline\n",
    "    advantage = rewards - baseline\n",
    "\n",
    "    # compute log_pi(a_t|s_t), shape = [batch, seq_length]\n",
    "    logp_sample = torch.gather(sample_logp, 2, sample_translations.unsqueeze(-1)).squeeze(-1)\n",
    "    # ^-- hint: look at how crossentropy is implemented in supervised learning loss above\n",
    "    # mind the sign - this one should not be multiplied by -1 :)\n",
    "\n",
    "    # policy gradient pseudo-loss. Gradient of J is exactly policy gradient.\n",
    "    J = logp_sample * advantage[:, None]\n",
    "\n",
    "\n",
    "    assert J.dim() == 2, \"please return elementwise objective, don't compute mean just yet\"\n",
    "\n",
    "    # average with mask\n",
    "    mask = infer_mask(sample_translations, out_voc.eos_ix)\n",
    "    loss = -torch.sum(J * mask) / torch.sum(mask)\n",
    "    # regularize with negative entropy. Don't forget the sign!\n",
    "    # note: for entropy you need probabilities for all tokens (sample_logp), not just logp_sample\n",
    "    entropy = -(logp_sample * torch.exp(logp_sample))\n",
    "    # hint: you can get sample probabilities from sample_logp using math :)\n",
    "    \n",
    "    assert entropy.dim(\n",
    "    ) == 2, \"please make sure elementwise entropy is of shape [batch,time]\"\n",
    "\n",
    "    reg = - 0.01 * torch.sum(entropy * mask) / torch.sum(mask)\n",
    "\n",
    "    return loss + reg, torch.sum(entropy * mask) / torch.sum(mask)"
   ]
  },
  {
   "cell_type": "markdown",
   "metadata": {},
   "source": [
    "# Policy gradient training\n"
   ]
  },
  {
   "cell_type": "code",
   "execution_count": 35,
   "metadata": {
    "execution": {
     "iopub.status.busy": "2025-05-14T15:55:13.327742Z",
     "iopub.status.idle": "2025-05-14T15:55:13.327971Z",
     "shell.execute_reply": "2025-05-14T15:55:13.327866Z",
     "shell.execute_reply.started": "2025-05-14T15:55:13.327857Z"
    },
    "trusted": true
   },
   "outputs": [],
   "source": [
    "entropy_history = [np.nan] * len(loss_history)\n",
    "opt = torch.optim.Adam(model.parameters(), lr=1e-5)"
   ]
  },
  {
   "cell_type": "code",
   "execution_count": 36,
   "metadata": {
    "execution": {
     "iopub.status.busy": "2025-05-14T15:55:13.328905Z",
     "iopub.status.idle": "2025-05-14T15:55:13.329251Z",
     "shell.execute_reply": "2025-05-14T15:55:13.329117Z",
     "shell.execute_reply.started": "2025-05-14T15:55:13.329100Z"
    },
    "trusted": true
   },
   "outputs": [
    {
     "name": "stdout",
     "output_type": "stream",
     "text": [
      "(array(['צילום הרצאות בווידאו', 'קטגוריה:נידוולדן', 'שלט רחוק',\n",
      "       'צב ים שטוח-גב', 'בוקיז', 'קירש', 'קו המשווה', 'תבנית:מיוז',\n",
      "       'קטגוריה:פוליטיקאים פינים', 'קטגוריה:יוון: איים', 'בזלת',\n",
      "       'קטגוריה:מתרגמים מיידיש', 'קטגוריה:בלדות לפי סוגה', 'דיקן',\n",
      "       'סלובקיה במשחקים האולימפיים', 'corrosion of conformity',\n",
      "       'ie business school', 'מנולב', 'פיגוע ההתאבדות באילת', 'מטשין',\n",
      "       'ימשושיים', 'פורט בראג', 'תמימות המוסלמים', 'תבנית:רגשות',\n",
      "       'ליבר פונטיפיקליס', 'קטגוריה:בלארוס: חלוקה מנהלית',\n",
      "       'קטגוריה:כדורגלני גלאטסראיי', 'טום יאם גונג', 'מדליית האחים רייט',\n",
      "       'דגל עומאן', 'ספייטסטאון', 'קריסטין לילי'], dtype='<U173'), ['lecture recording', 'nidwalden', 'remote control', 'flatback sea turtle', 'bocuse', 'kirsch', 'equator', 'muse', 'finnish politicians', 'islands of greece', 'basalt', 'translators from yiddish', 'ballads by genre', 'dyken', 'slovakia at the olympics', 'corrosion of conformity', 'ie business school', 'manolev', 'eilat bakery bombing', 'metshin', 'chironomidae', 'fort bragg', 'innocence of muslims', 'emotion-footer', 'liber pontificalis', 'subdivisions of belarus', 'galatasaray s.k. footballers', 'tom-yum-goong', 'wright brothers medal', 'flag of oman', 'speightstown', 'kristine lilly'])\n"
     ]
    }
   ],
   "source": [
    "print(sample_batch(train_words, word_to_translation, 32))"
   ]
  },
  {
   "cell_type": "code",
   "execution_count": 37,
   "metadata": {},
   "outputs": [],
   "source": [
    "load_frequency = 100"
   ]
  },
  {
   "cell_type": "code",
   "execution_count": 38,
   "metadata": {
    "execution": {
     "iopub.status.busy": "2025-05-14T15:55:13.330432Z",
     "iopub.status.idle": "2025-05-14T15:55:13.330726Z",
     "shell.execute_reply": "2025-05-14T15:55:13.330577Z",
     "shell.execute_reply.started": "2025-05-14T15:55:13.330561Z"
    },
    "trusted": true
   },
   "outputs": [
    {
     "data": {
      "image/png": "[encoded data removed]",
      "text/plain": [
       "<Figure size 1200x400 with 3 Axes>"
      ]
     },
     "metadata": {},
     "output_type": "display_data"
    },
    {
     "name": "stderr",
     "output_type": "stream",
     "text": [
      "100%|██████████| 10000/10000 [10:38<00:00, 15.65it/s]"
     ]
    },
    {
     "name": "stdout",
     "output_type": "stream",
     "text": [
      "J=-1.317, mean score=7.139\n"
     ]
    },
    {
     "name": "stderr",
     "output_type": "stream",
     "text": [
      "\n"
     ]
    }
   ],
   "source": [
    "for i in trange(10000):\n",
    "    loss, ent = scst_objective_on_batch(\n",
    "        sample_batch(train_words, word_to_translation, 32)[0])  # [0] = only source sentence\n",
    "    # print(loss.item(), ent.item())\n",
    "    # train with backprop\n",
    "    loss.backward()\n",
    "    opt.step()\n",
    "    opt.zero_grad()\n",
    "\n",
    "    loss_history.append(loss.item())\n",
    "    entropy_history.append(ent.item())\n",
    "\n",
    "    if (i + 1) % load_frequency == 0:\n",
    "        torch.save(model.state_dict(), \"last_state_dict_RL.pt\")\n",
    "\n",
    "    if (i+1) % REPORT_FREQ == 0:\n",
    "        clear_output(True)\n",
    "        current_scores = score(test_words)\n",
    "        editdist_history.append(current_scores.mean())\n",
    "        plt.figure(figsize=(12, 4))\n",
    "        plt.subplot(131)\n",
    "        plt.title('val score distribution')\n",
    "        plt.hist(current_scores, bins=20)\n",
    "        plt.subplot(132)\n",
    "        plt.title('val score / traning time')\n",
    "        plt.plot(editdist_history)\n",
    "        plt.grid()\n",
    "        plt.subplot(133)\n",
    "        plt.title('policy entropy / traning time')\n",
    "        plt.plot(entropy_history)\n",
    "        plt.grid()\n",
    "        plt.show()\n",
    "        print(\"J=%.3f, mean score=%.3f\" %\n",
    "              (np.mean(loss_history[-10:]), np.mean(editdist_history[-10:])))"
   ]
  },
  {
   "cell_type": "markdown",
   "metadata": {},
   "source": [
    "__Debugging tips:__\n",
    "<img src=https://github.com/yandexdataschool/Practical_RL/raw/master/yet_another_week/_resource/do_something_scst.png width=400>\n",
    "\n",
    " * As usual, don't expect improvements right away, but in general the model should be able to show some positive changes by 5k steps.\n",
    " * Entropy is a good indicator of many problems.\n",
    "   * If it reaches zero, you may need greater entropy regularizer.\n",
    "   * If it has rapid changes time to time, you may need gradient clipping.\n",
    "   * If it oscillates up and down in an erratic manner... it's perfectly okay for entropy to do so. But it should decrease at the end.\n",
    "\n",
    " * We don't show loss_history cuz it's uninformative for pseudo-losses in policy gradient. However, if something goes wrong you can check it to see if everything isn't a constant zero."
   ]
  },
  {
   "cell_type": "markdown",
   "metadata": {},
   "source": [
    "### Results"
   ]
  },
  {
   "cell_type": "code",
   "execution_count": 39,
   "metadata": {
    "execution": {
     "iopub.status.busy": "2025-05-14T15:55:13.332170Z",
     "iopub.status.idle": "2025-05-14T15:55:13.332415Z",
     "shell.execute_reply": "2025-05-14T15:55:13.332292Z",
     "shell.execute_reply.started": "2025-05-14T15:55:13.332283Z"
    },
    "trusted": true
   },
   "outputs": [
    {
     "name": "stdout",
     "output_type": "stream",
     "text": [
      "מצרי טיראן -> tiran eme\n",
      "פתילת המדבר הגדולה -> great pathele\n",
      "כפניים -> papane\n",
      "תומאס בראש -> thomas brash\n",
      "ברוקטרים -> brucetrim\n",
      "קשר בוהן -> bohn case\n",
      "מדד ביג מק -> mice mad\n",
      "הנדלר -> hendler\n",
      "אן רייס -> ann rais\n",
      "קטגוריה:תוכנות שהושקו ב-1978 -> 1978 software\n"
     ]
    }
   ],
   "source": [
    "for word in train_words[:10]:\n",
    "    print(\"%s -> %s\" % (word, translate([word])[0]))"
   ]
  },
  {
   "cell_type": "code",
   "execution_count": 40,
   "metadata": {
    "execution": {
     "iopub.status.busy": "2025-05-14T15:55:13.334073Z",
     "iopub.status.idle": "2025-05-14T15:55:13.334365Z",
     "shell.execute_reply": "2025-05-14T15:55:13.334210Z",
     "shell.execute_reply.started": "2025-05-14T15:55:13.334200Z"
    },
    "trusted": true
   },
   "outputs": [
    {
     "name": "stderr",
     "output_type": "stream",
     "text": [
      "100%|██████████| 569/569 [00:08<00:00, 69.33it/s]"
     ]
    },
    {
     "name": "stdout",
     "output_type": "stream",
     "text": [
      "Supervised test score: 7.058082613717617\n"
     ]
    },
    {
     "name": "stderr",
     "output_type": "stream",
     "text": [
      "\n"
     ]
    }
   ],
   "source": [
    "test_scores = []\n",
    "for start_i in trange(0, len(test_words), 32):\n",
    "    batch_words = test_words[start_i:start_i+32]\n",
    "    batch_trans = translate(batch_words)\n",
    "    distances = list(map(get_distance, batch_words, batch_trans))\n",
    "    test_scores.extend(distances)\n",
    "print(\"Supervised test score:\", np.mean(test_scores))\n",
    "\n",
    "# ^^ If you get Out Of MemoryError, please replace this with batched computation"
   ]
  },
  {
   "cell_type": "markdown",
   "metadata": {},
   "source": [
    "## Step 6: Make it actually work (5++ pts)\n",
    "\n",
    "In this section, we want you to finally __restart with EASY_MODE=False__ and experiment to find a good model/curriculum for that task.\n",
    "\n",
    "We recommend you to start with the following architecture\n",
    "\n",
    "```\n",
    "encoder---decoder\n",
    "\n",
    "           P(y|h)\n",
    "             ^\n",
    " LSTM  ->   LSTM\n",
    "  ^          ^\n",
    " biLSTM  ->   LSTM\n",
    "  ^          ^\n",
    "input       y_prev\n",
    "```\n",
    "\n",
    "**^^^That structure didn't work for me^^^**\n",
    "\n",
    "__Note:__ you can fit all 4 state tensors of both LSTMs into in a single state - just assume that it contains, for example, [h0, c0, h1, c1] - pack it in encode and update in decode.\n",
    "\n",
    "\n",
    "Here are some cool ideas on what you can do then.\n",
    "\n",
    "__General tips & tricks:__\n",
    "* You will likely need to adjust pre-training time for such a network.\n",
    "* Supervised pre-training may benefit from clipping gradients somehow.\n",
    "* SCST may indulge a higher learning rate in some cases and changing entropy regularizer over time.\n",
    "* It's often useful to save pre-trained model parameters to not re-train it every time you want new policy gradient parameters.\n",
    "* When leaving training for nighttime, try setting REPORT_FREQ to a larger value (e.g. 500) not to waste time on it.\n",
    "\n",
    "__Formal criteria:__\n",
    "To get 5 points, we want you to build an architecture that:\n",
    "* _doesn't consist of single GRU_\n",
    "* _works better_ than single GRU baseline.\n",
    "* We also want you to provide either learning curve or trained model, preferably both\n",
    "* ... and write a brief report or experiment log describing what you did and how it fared.\n",
    "\n",
    "### Attention\n",
    "There's more than one way to connect decoder to encoder\n",
    "  * __Vanilla:__ layer_i of encoder last state goes to layer_i of decoder initial state\n",
    "  * __Every tick:__ feed encoder last state _on every iteration_ of decoder.\n",
    "  * __Attention:__ allow decoder to \"peek\" at one (or several) positions of encoded sequence on every tick.\n",
    "\n",
    "The most effective (and cool) of those is, of course, attention.\n",
    "You can read more about attention [in this nice blog post](https://distill.pub/2016/augmented-rnns/). The easiest way to begin is to use \"soft\" attention with \"additive\" or \"dot-product\" intermediate layers.\n",
    "\n",
    "__Tips__\n",
    "* Model usually generalizes better if you no longer allow decoder to see final encoder state\n",
    "* Once your model made it through several epochs, it is a good idea to visualize attention maps to understand what your model has actually learned\n",
    "\n",
    "* There's more stuff [here](bonus_pytorch.ipynb)\n",
    "* If you opted for hard attention, we recommend [gumbel-softmax](https://blog.evjang.com/2016/11/tutorial-categorical-variational.html) instead of sampling. Also, please make sure soft attention works fine before you switch to hard.\n",
    "\n",
    "### UREX\n",
    "* This is a way to improve exploration in policy-based settings. The main idea is that you find and upweight under-appreciated actions.\n",
    "* Here's [video](https://www.youtube.com/watch?v=fZNyHoXgV7M&feature=youtu.be&t=3444)\n",
    " and an [article](https://arxiv.org/abs/1611.09321).\n",
    "* You may want to reduce batch size 'cuz UREX requires you to sample multiple times per source sentence.\n",
    "* Once you got it working, try using experience replay with importance sampling instead of (in addition to) basic UREX.\n",
    "\n",
    "### Some additional ideas:\n",
    "* (advanced deep learning) It may be a good idea to first train on small phrases and then adapt to larger ones (a.k.a. training curriculum).\n",
    "* (advanced nlp) You may want to switch from raw utf8 to something like unicode or even syllables to make the task easier.\n",
    "* (advanced nlp) Since Hebrew words are written __with vowels omitted__, you may want to use a small Hebrew vowel markup dataset at `he-pron-wiktionary.txt`.\n",
    "\n"
   ]
  },
  {
   "cell_type": "code",
   "execution_count": 41,
   "metadata": {
    "execution": {
     "iopub.status.busy": "2025-05-14T15:55:13.335408Z",
     "iopub.status.idle": "2025-05-14T15:55:13.335686Z",
     "shell.execute_reply": "2025-05-14T15:55:13.335580Z",
     "shell.execute_reply.started": "2025-05-14T15:55:13.335567Z"
    },
    "trusted": true
   },
   "outputs": [],
   "source": [
    "assert not EASY_MODE, \"make sure you set EASY_MODE = False at the top of the notebook.\""
   ]
  },
  {
   "cell_type": "markdown",
   "metadata": {},
   "source": [
    "`[your report/log here or anywhere you please]`"
   ]
  },
  {
   "cell_type": "markdown",
   "metadata": {},
   "source": [
    "__Contributions:__ This notebook is brought to you by\n",
    "* Yandex [MT team](https://tech.yandex.com/translate/)\n",
    "* Denis Mazur ([DeniskaMazur](https://github.com/DeniskaMazur)), Oleg Vasilev ([Omrigan](https://github.com/Omrigan/)), Dmitry Emelyanenko ([TixFeniks](https://github.com/tixfeniks)) and Fedor Ratnikov ([justheuristic](https://github.com/justheuristic/))\n",
    "* Dataset is parsed from [Wiktionary](https://en.wiktionary.org), which is under CC-BY-SA and GFDL licenses.\n"
   ]
  }
 ],
 "metadata": {
  "kaggle": {
   "accelerator": "gpu",
   "dataSources": [
    {
     "datasetId": 7418939,
     "sourceId": 11812204,
     "sourceType": "datasetVersion"
    }
   ],
   "dockerImageVersionId": 31041,
   "isGpuEnabled": true,
   "isInternetEnabled": true,
   "language": "python",
   "sourceType": "notebook"
  },
  "kernelspec": {
   "display_name": "Python 3",
   "language": "python",
   "name": "python3"
  },
  "language_info": {
   "codemirror_mode": {
    "name": "ipython",
    "version": 3
   },
   "file_extension": ".py",
   "mimetype": "text/x-python",
   "name": "python",
   "nbconvert_exporter": "python",
   "pygments_lexer": "ipython3",
   "version": "3.11.11"
  }
 },
 "nbformat": 4,
 "nbformat_minor": 4
}
